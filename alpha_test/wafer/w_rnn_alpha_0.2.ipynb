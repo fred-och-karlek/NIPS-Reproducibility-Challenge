{
 "cells": [
  {
   "cell_type": "code",
   "execution_count": 1,
   "metadata": {},
   "outputs": [],
   "source": [
    "#alpha = 0.2, gamma = 0.01"
   ]
  },
  {
   "cell_type": "code",
   "execution_count": 2,
   "metadata": {},
   "outputs": [],
   "source": [
    "import numpy as np\n",
    "import torch\n",
    "from data.synthetic_dataset import * \n",
    "#from data.synthetic_dataset import create_synthetic_dataset, SyntheticDataset\n",
    "from models.seq2seq import EncoderRNN, DecoderRNN, Net_GRU\n",
    "from loss.dilate_loss import dilate_loss\n",
    "from torch.utils.data import DataLoader\n",
    "import random\n",
    "from tslearn.metrics import dtw, dtw_path\n",
    "import matplotlib.pyplot as plt\n",
    "import warnings\n",
    "import warnings; warnings.simplefilter('ignore')\n"
   ]
  },
  {
   "cell_type": "code",
   "execution_count": 3,
   "metadata": {},
   "outputs": [],
   "source": [
    "import os\n",
    "os.environ[\"CUDA_VISIBLE_DEVICES\"] = \"0\""
   ]
  },
  {
   "cell_type": "code",
   "execution_count": 4,
   "metadata": {},
   "outputs": [
    {
     "data": {
      "text/plain": [
       "device(type='cuda', index=0)"
      ]
     },
     "execution_count": 4,
     "metadata": {},
     "output_type": "execute_result"
    }
   ],
   "source": [
    "device = torch.device(\"cuda:0\" if torch.cuda.is_available() else \"cpu\")\n",
    "device"
   ]
  },
  {
   "cell_type": "code",
   "execution_count": 5,
   "metadata": {},
   "outputs": [
    {
     "name": "stdout",
     "output_type": "stream",
     "text": [
      "epoch  0  loss  5.389767646789551  loss shape  23.312406539916992  loss temporal  0.9091076850891113\n",
      " Eval mse=  0.38194682200749713  dtw=  4.801816467158882  tdi=  0.010753381893860563\n",
      "epoch  50  loss  1.061685562133789  loss shape  0.0320177897810936  loss temporal  1.3191025257110596\n",
      " Eval mse=  0.05610696170479059  dtw=  0.7773885660463357  tdi=  1.8009307578910854\n",
      "epoch  100  loss  0.9332801103591919  loss shape  0.3504939675331116  loss temporal  1.0789766311645508\n",
      " Eval mse=  0.057029455962280436  dtw=  0.8909871747347103  tdi=  1.6236622441900797\n",
      "epoch  150  loss  0.6045292019844055  loss shape  0.12405838817358017  loss temporal  0.7246468663215637\n",
      " Eval mse=  0.06236928732444843  dtw=  0.8171252379632731  tdi=  1.259252471383975\n",
      "epoch  200  loss  0.7985590100288391  loss shape  -0.16249419748783112  loss temporal  1.0388222932815552\n",
      " Eval mse=  0.05452019311487675  dtw=  0.7476388637605476  tdi=  1.5701585587929243\n",
      "epoch  250  loss  0.17396199703216553  loss shape  -0.5711667537689209  loss temporal  0.36024418473243713\n",
      " Eval mse=  0.028664778731763364  dtw=  0.5020324315141166  tdi=  1.030583159902879\n",
      "epoch  300  loss  0.1955759972333908  loss shape  -0.21961331367492676  loss temporal  0.2993733286857605\n",
      " Eval mse=  0.03162430928399165  dtw=  0.7455651927317594  tdi=  0.8029464533472077\n",
      "epoch  350  loss  0.15267795324325562  loss shape  -0.6118573546409607  loss temporal  0.3438117504119873\n",
      " Eval mse=  0.024332857225090265  dtw=  0.4727764587194575  tdi=  0.6762376430801248\n",
      "epoch  400  loss  0.08899283409118652  loss shape  -0.7061858177185059  loss temporal  0.2877874970436096\n",
      " Eval mse=  0.018833192282666764  dtw=  0.39971467863449184  tdi=  0.5967980402358654\n",
      "epoch  450  loss  -0.010242357850074768  loss shape  -0.7985937595367432  loss temporal  0.18684549629688263\n",
      " Eval mse=  0.016972899607693156  dtw=  0.37171390764892903  tdi=  0.5973449531737773\n",
      "epoch  500  loss  0.2713519334793091  loss shape  -0.43598413467407227  loss temporal  0.4481859505176544\n",
      " Eval mse=  0.03538297212993105  dtw=  0.6124049728601942  tdi=  2.6905123135622615\n",
      "epoch  550  loss  0.416896790266037  loss shape  -0.12364792823791504  loss temporal  0.5520329475402832\n",
      " Eval mse=  0.05366376843303442  dtw=  0.7824946234346228  tdi=  2.1096789802289284\n",
      "epoch  600  loss  0.27147376537323  loss shape  -0.5713806748390198  loss temporal  0.4821873605251312\n",
      " Eval mse=  0.03543932515506943  dtw=  0.4884525796107964  tdi=  0.8410910509885537\n",
      "epoch  650  loss  0.11798912286758423  loss shape  -0.692716658115387  loss temporal  0.320665568113327\n",
      " Eval mse=  0.03373890795434515  dtw=  0.40504645488908986  tdi=  0.833570542837322\n",
      "epoch  700  loss  0.21526502072811127  loss shape  -0.7069504857063293  loss temporal  0.4458189010620117\n",
      " Eval mse=  0.038108987857898076  dtw=  0.4050398956418674  tdi=  0.953729665279223\n",
      "epoch  750  loss  0.19159795343875885  loss shape  -0.7281376719474792  loss temporal  0.4215318560600281\n",
      " Eval mse=  0.043582763181378444  dtw=  0.3810274136359038  tdi=  1.2574173170308707\n",
      "epoch  800  loss  0.15370652079582214  loss shape  -0.7213035225868225  loss temporal  0.3724590241909027\n",
      " Eval mse=  0.028186280746012926  dtw=  0.3814362016742943  tdi=  0.6997666493236213\n",
      "epoch  850  loss  0.17797014117240906  loss shape  -0.6995493173599243  loss temporal  0.3973499834537506\n",
      " Eval mse=  0.03237925631304582  dtw=  0.42316113637834485  tdi=  1.1706858740894897\n",
      "epoch  900  loss  0.12783412635326385  loss shape  -0.7631579637527466  loss temporal  0.35058215260505676\n",
      " Eval mse=  0.028210453689098358  dtw=  0.3210538238003863  tdi=  0.7035147849462365\n",
      "epoch  950  loss  0.0536985844373703  loss shape  -0.7970598936080933  loss temporal  0.2663882076740265\n",
      " Eval mse=  0.014932939906915028  dtw=  0.3015568303983483  tdi=  0.5630567551161983\n"
     ]
    }
   ],
   "source": [
    "# random.seed(0)\n",
    "\n",
    "# parameters\n",
    "batch_size = 100\n",
    "N_input = 90\n",
    "N_output = 62 \n",
    "sigma = 0.01\n",
    "gamma = 0.01\n",
    "\n",
    "# Load synthetic dataset\n",
    "# X_train_input,X_train_target,X_test_input,X_test_target,train_bkp,test_bkp = create_synthetic_dataset(N,N_input,N_output,sigma)\n",
    "# dataset_train = SyntheticDataset(X_train_input,X_train_target, train_bkp)\n",
    "# dataset_test  = SyntheticDataset(X_test_input,X_test_target, test_bkp)\n",
    "# trainloader = DataLoader(dataset_train, batch_size=batch_size,shuffle=True, num_workers=1)\n",
    "# testloader  = DataLoader(dataset_test, batch_size=batch_size,shuffle=False, num_workers=1)\n",
    "\n",
    "\n",
    "# Load ECG dataset\n",
    "filepath_train = '../Wafer_TRAIN.txt'\n",
    "filepath_test = '../Wafer_TEST.txt'\n",
    "x_train_ip, x_train_op, x_test_ip, x_test_op, train_bkp, test_bkp = load_wafer(filepath_train, filepath_test)\n",
    "# print (x_train_ip.shape, x_train_op.shape, x_test_ip.shape, x_test_op.shape)\n",
    "dataset_train = create_Dataset(x_train_ip, x_train_op, train_bkp)\n",
    "dataset_test  = create_Dataset(x_test_ip, x_test_op, test_bkp)\n",
    "trainloader = DataLoader(dataset_train, batch_size=batch_size,shuffle=True, num_workers=1)\n",
    "testloader  = DataLoader(dataset_test, batch_size=batch_size,shuffle=False, num_workers=1)\n",
    "\n",
    "def train_model(net,loss_type, learning_rate, epochs=1000, gamma = 0.01,\n",
    "                print_every=50,eval_every=50, verbose=1, Lambda=1, alpha=0.2):\n",
    "    \n",
    "    optimizer = torch.optim.Adam(net.parameters(),lr=learning_rate)\n",
    "    criterion = torch.nn.MSELoss()\n",
    "    \n",
    "    for epoch in range(epochs): \n",
    "        for i, data in enumerate(trainloader, 0):\n",
    "            inputs, target, _ = data\n",
    "            inputs = torch.tensor(inputs, dtype=torch.float32).to(device)\n",
    "            target = torch.tensor(target, dtype=torch.float32).to(device)\n",
    "            batch_size, N_output = target.shape[0:2]                     \n",
    "\n",
    "            # forward + backward + optimize\n",
    "            outputs = net(inputs)\n",
    "            loss_mse,loss_shape,loss_temporal = torch.tensor(0),torch.tensor(0),torch.tensor(0)\n",
    "            \n",
    "            if (loss_type=='mse'):\n",
    "                loss_mse = criterion(target,outputs)\n",
    "                loss = loss_mse                   \n",
    " \n",
    "            if (loss_type=='dilate'):    \n",
    "                loss, loss_shape, loss_temporal = dilate_loss(target,outputs,alpha, gamma, device)     \n",
    "            \n",
    "            if (loss_type=='dilate_shape'):    \n",
    "                loss, loss_shape, loss_temporal = dilate_loss(target,outputs,alpha, gamma, device)     \n",
    "                loss = loss_shape\n",
    "                \n",
    "            optimizer.zero_grad()\n",
    "            loss.backward()\n",
    "            optimizer.step()          \n",
    "        \n",
    "        if(verbose):\n",
    "            if (epoch % print_every == 0):\n",
    "                print('epoch ', epoch, ' loss ',loss.item(),' loss shape ',loss_shape.item(),' loss temporal ',loss_temporal.item())\n",
    "                eval_model(net,testloader, gamma,verbose=1)\n",
    "  \n",
    "\n",
    " \n",
    "def eval_model(net,loader, gamma,verbose=1):   \n",
    "    criterion = torch.nn.MSELoss()\n",
    "    losses_mse = []\n",
    "    losses_dtw = []\n",
    "    losses_tdi = []   \n",
    "\n",
    "    for i, data in enumerate(loader, 0):\n",
    "        loss_mse, loss_dtw, loss_tdi = torch.tensor(0),torch.tensor(0),torch.tensor(0)\n",
    "        # get the inputs\n",
    "        inputs, target, breakpoints = data\n",
    "        inputs = torch.tensor(inputs, dtype=torch.float32).to(device)\n",
    "        target = torch.tensor(target, dtype=torch.float32).to(device)\n",
    "        batch_size, N_output = target.shape[0:2]\n",
    "        outputs = net(inputs)\n",
    "         \n",
    "        # MSE    \n",
    "        loss_mse = criterion(target,outputs)    \n",
    "        loss_dtw, loss_tdi = 0,0\n",
    "        # DTW and TDI\n",
    "        for k in range(batch_size):         \n",
    "            target_k_cpu = target[k,:,0:1].view(-1).detach().cpu().numpy()\n",
    "            output_k_cpu = outputs[k,:,0:1].view(-1).detach().cpu().numpy()\n",
    "\n",
    "            loss_dtw += dtw(target_k_cpu,output_k_cpu)\n",
    "            path, sim = dtw_path(target_k_cpu, output_k_cpu)   \n",
    "                       \n",
    "            Dist = 0\n",
    "            for i,j in path:\n",
    "                    Dist += (i-j)*(i-j)\n",
    "            loss_tdi += Dist / (N_output*N_output)            \n",
    "                        \n",
    "        loss_dtw = loss_dtw /batch_size\n",
    "        loss_tdi = loss_tdi / batch_size\n",
    "\n",
    "        # print statistics\n",
    "        losses_mse.append( loss_mse.item() )\n",
    "        losses_dtw.append( loss_dtw )\n",
    "        losses_tdi.append( loss_tdi )\n",
    "\n",
    "    print( ' Eval mse= ', np.array(losses_mse).mean() ,' dtw= ',np.array(losses_dtw).mean() ,' tdi= ', np.array(losses_tdi).mean()) \n",
    "\n",
    "\n",
    "encoder = EncoderRNN(input_size=1, hidden_size=128, num_grulstm_layers=1, batch_size=batch_size).to(device)\n",
    "decoder = DecoderRNN(input_size=1, hidden_size=128, num_grulstm_layers=1,fc_units=16, output_size=1).to(device)\n",
    "net_gru_dilate = Net_GRU(encoder,decoder, N_output, device).to(device)\n",
    "train_model(net_gru_dilate,loss_type='dilate',learning_rate=0.001, epochs=1000, gamma=gamma, print_every=50, eval_every=50,verbose=1)\n",
    "\n",
    "# encoder = EncoderRNN(input_size=1, hidden_size=128, num_grulstm_layers=1, batch_size=batch_size).to(device)\n",
    "# decoder = DecoderRNN(input_size=1, hidden_size=128, num_grulstm_layers=1,fc_units=16, output_size=1).to(device)\n",
    "# net_gru_mse = Net_GRU(encoder,decoder, N_output, device).to(device)\n",
    "# train_model(net_gru_mse,loss_type='mse',learning_rate=0.001, epochs=500, gamma=gamma, print_every=50, eval_every=50,verbose=1)\n",
    "\n",
    "#encoder = EncoderRNN(input_size=1, hidden_size=128, num_grulstm_layers=1, batch_size=batch_size).to(device)\n",
    "#decoder = DecoderRNN(input_size=1, hidden_size=128, num_grulstm_layers=1,fc_units=16, output_size=1).to(device)\n",
    "#net_gru_dilate = Net_GRU(encoder,decoder, N_output, device).to(device)\n",
    "#train_model(net_gru_dilate,loss_type='dilate_shape',learning_rate=0.001, epochs=500, gamma=gamma, print_every=50, eval_every=50,verbose=1)\n",
    "\n"
   ]
  },
  {
   "cell_type": "code",
   "execution_count": null,
   "metadata": {},
   "outputs": [],
   "source": []
  },
  {
   "cell_type": "code",
   "execution_count": null,
   "metadata": {},
   "outputs": [],
   "source": []
  },
  {
   "cell_type": "code",
   "execution_count": null,
   "metadata": {},
   "outputs": [],
   "source": []
  },
  {
   "cell_type": "code",
   "execution_count": null,
   "metadata": {},
   "outputs": [],
   "source": []
  },
  {
   "cell_type": "code",
   "execution_count": null,
   "metadata": {},
   "outputs": [],
   "source": []
  },
  {
   "cell_type": "code",
   "execution_count": null,
   "metadata": {},
   "outputs": [],
   "source": []
  },
  {
   "cell_type": "code",
   "execution_count": null,
   "metadata": {},
   "outputs": [],
   "source": []
  },
  {
   "cell_type": "code",
   "execution_count": null,
   "metadata": {},
   "outputs": [],
   "source": []
  },
  {
   "cell_type": "code",
   "execution_count": null,
   "metadata": {},
   "outputs": [],
   "source": [
    "\n"
   ]
  }
 ],
 "metadata": {
  "kernelspec": {
   "display_name": "Python [conda env:myenv] *",
   "language": "python",
   "name": "conda-env-myenv-py"
  },
  "language_info": {
   "codemirror_mode": {
    "name": "ipython",
    "version": 3
   },
   "file_extension": ".py",
   "mimetype": "text/x-python",
   "name": "python",
   "nbconvert_exporter": "python",
   "pygments_lexer": "ipython3",
   "version": "3.7.5"
  }
 },
 "nbformat": 4,
 "nbformat_minor": 2
}
