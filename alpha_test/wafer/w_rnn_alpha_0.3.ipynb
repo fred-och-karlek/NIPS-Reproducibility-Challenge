{
 "cells": [
  {
   "cell_type": "code",
   "execution_count": 1,
   "metadata": {},
   "outputs": [],
   "source": [
    "#alpha = 0.3, gamma = 0.01"
   ]
  },
  {
   "cell_type": "code",
   "execution_count": 2,
   "metadata": {},
   "outputs": [],
   "source": [
    "import numpy as np\n",
    "import torch\n",
    "from data.synthetic_dataset import * \n",
    "#from data.synthetic_dataset import create_synthetic_dataset, SyntheticDataset\n",
    "from models.seq2seq import EncoderRNN, DecoderRNN, Net_GRU\n",
    "from loss.dilate_loss import dilate_loss\n",
    "from torch.utils.data import DataLoader\n",
    "import random\n",
    "from tslearn.metrics import dtw, dtw_path\n",
    "import matplotlib.pyplot as plt\n",
    "import warnings\n",
    "import warnings; warnings.simplefilter('ignore')\n"
   ]
  },
  {
   "cell_type": "code",
   "execution_count": 3,
   "metadata": {},
   "outputs": [],
   "source": [
    "import os\n",
    "os.environ[\"CUDA_VISIBLE_DEVICES\"] = \"0\""
   ]
  },
  {
   "cell_type": "code",
   "execution_count": 4,
   "metadata": {},
   "outputs": [
    {
     "data": {
      "text/plain": [
       "device(type='cuda', index=0)"
      ]
     },
     "execution_count": 4,
     "metadata": {},
     "output_type": "execute_result"
    }
   ],
   "source": [
    "device = torch.device(\"cuda:0\" if torch.cuda.is_available() else \"cpu\")\n",
    "device"
   ]
  },
  {
   "cell_type": "code",
   "execution_count": 5,
   "metadata": {},
   "outputs": [
    {
     "name": "stdout",
     "output_type": "stream",
     "text": [
      "epoch  0  loss  3.652095317840576  loss shape  7.9211320877075195  loss temporal  1.8225083351135254\n",
      " Eval mse=  0.13061482260624568  dtw=  2.762148595200877  tdi=  1.4701046219216096\n",
      "epoch  50  loss  2.9556002616882324  loss shape  5.1101155281066895  loss temporal  2.032236337661743\n",
      " Eval mse=  0.14031663661201796  dtw=  2.3243425315377144  tdi=  2.487082596253902\n",
      "epoch  100  loss  2.3218207359313965  loss shape  7.432053565979004  loss temporal  0.1317209005355835\n",
      " Eval mse=  0.11817486770451069  dtw=  2.6405740770026807  tdi=  0.28057700312174816\n",
      "epoch  150  loss  2.4993181228637695  loss shape  7.988667011260986  loss temporal  0.14673973619937897\n",
      " Eval mse=  0.11679874534408251  dtw=  2.6259495240187674  tdi=  0.1574118539715574\n",
      "epoch  200  loss  0.29236045479774475  loss shape  -0.3259420394897461  loss temporal  0.5573472380638123\n",
      " Eval mse=  0.05706183823446433  dtw=  0.6498238238858753  tdi=  1.821678373222338\n",
      "epoch  250  loss  0.35354217886924744  loss shape  -0.382561594247818  loss temporal  0.6690152287483215\n",
      " Eval mse=  0.05351836650321881  dtw=  0.6099806671872016  tdi=  3.061004682622268\n",
      "epoch  300  loss  0.49431735277175903  loss shape  -0.28293415904045105  loss temporal  0.8274251222610474\n",
      " Eval mse=  0.056989849110444385  dtw=  0.6375919198906653  tdi=  2.2786629379118972\n",
      "epoch  350  loss  0.4164952039718628  loss shape  -0.3448021113872528  loss temporal  0.7427655458450317\n",
      " Eval mse=  0.06205612178891897  dtw=  0.5704089660447929  tdi=  1.3346713059313215\n",
      "epoch  400  loss  0.4990031123161316  loss shape  -0.33175143599510193  loss temporal  0.8550408482551575\n",
      " Eval mse=  0.0688033244262139  dtw=  0.6439027262067061  tdi=  1.801771115157822\n",
      "epoch  450  loss  0.07518656551837921  loss shape  -0.7902117967605591  loss temporal  0.446071594953537\n",
      " Eval mse=  0.0339555491382877  dtw=  0.35041651123447043  tdi=  0.8496076569545613\n",
      "epoch  500  loss  -0.0456060916185379  loss shape  -0.8273351192474365  loss temporal  0.2894206643104553\n",
      " Eval mse=  0.024114375282078982  dtw=  0.315319839638028  tdi=  1.0837487859868193\n",
      "epoch  550  loss  -0.12205956876277924  loss shape  -0.8515134453773499  loss temporal  0.19056351482868195\n",
      " Eval mse=  0.021313677355647088  dtw=  0.2966479725161631  tdi=  0.7493439559486644\n",
      "epoch  600  loss  -0.03573578596115112  loss shape  -0.840773344039917  loss temporal  0.3092803359031677\n",
      " Eval mse=  0.01982263643294573  dtw=  0.2884978958297231  tdi=  0.6460494276795004\n",
      "epoch  650  loss  -0.11429008841514587  loss shape  -0.8669591546058655  loss temporal  0.20828238129615784\n",
      " Eval mse=  0.021530470283081134  dtw=  0.2799086597231091  tdi=  0.6176689212625739\n",
      "epoch  700  loss  1.870262622833252  loss shape  -0.5710537433624268  loss temporal  2.91654109954834\n",
      " Eval mse=  0.12603713274002076  dtw=  0.4603512378881736  tdi=  2.488522155740548\n",
      "epoch  750  loss  -0.06679558753967285  loss shape  -0.8231615424156189  loss temporal  0.2573612630367279\n",
      " Eval mse=  0.0182445603578041  dtw=  0.30489235260702047  tdi=  0.6614698231009366\n",
      "epoch  800  loss  -0.12644416093826294  loss shape  -0.8633113503456116  loss temporal  0.18935608863830566\n",
      " Eval mse=  0.019467578611026208  dtw=  0.2729132111437317  tdi=  0.4915235431841831\n",
      "epoch  850  loss  -0.12881144881248474  loss shape  -0.8710435032844543  loss temporal  0.18928800523281097\n",
      " Eval mse=  0.01426089578308165  dtw=  0.2563820934292564  tdi=  0.5286260405827263\n",
      "epoch  900  loss  -0.09015227854251862  loss shape  -0.8575443625450134  loss temporal  0.23873008787631989\n",
      " Eval mse=  0.013937493382642666  dtw=  0.23711238293053638  tdi=  0.44507704647936186\n",
      "epoch  950  loss  -0.14576824009418488  loss shape  -0.9029159545898438  loss temporal  0.17872366309165955\n",
      " Eval mse=  0.019861912742878  dtw=  0.23685676388670013  tdi=  0.45968327263267433\n"
     ]
    }
   ],
   "source": [
    "# random.seed(0)\n",
    "\n",
    "# parameters\n",
    "batch_size = 100\n",
    "N_input = 90\n",
    "N_output = 62 \n",
    "sigma = 0.01\n",
    "gamma = 0.01\n",
    "\n",
    "# Load synthetic dataset\n",
    "# X_train_input,X_train_target,X_test_input,X_test_target,train_bkp,test_bkp = create_synthetic_dataset(N,N_input,N_output,sigma)\n",
    "# dataset_train = SyntheticDataset(X_train_input,X_train_target, train_bkp)\n",
    "# dataset_test  = SyntheticDataset(X_test_input,X_test_target, test_bkp)\n",
    "# trainloader = DataLoader(dataset_train, batch_size=batch_size,shuffle=True, num_workers=1)\n",
    "# testloader  = DataLoader(dataset_test, batch_size=batch_size,shuffle=False, num_workers=1)\n",
    "\n",
    "\n",
    "# Load ECG dataset\n",
    "filepath_train = '../Wafer_TRAIN.txt'\n",
    "filepath_test = '../Wafer_TEST.txt'\n",
    "x_train_ip, x_train_op, x_test_ip, x_test_op, train_bkp, test_bkp = load_wafer(filepath_train, filepath_test)\n",
    "# print (x_train_ip.shape, x_train_op.shape, x_test_ip.shape, x_test_op.shape)\n",
    "dataset_train = create_Dataset(x_train_ip, x_train_op, train_bkp)\n",
    "dataset_test  = create_Dataset(x_test_ip, x_test_op, test_bkp)\n",
    "trainloader = DataLoader(dataset_train, batch_size=batch_size,shuffle=True, num_workers=1)\n",
    "testloader  = DataLoader(dataset_test, batch_size=batch_size,shuffle=False, num_workers=1)\n",
    "\n",
    "def train_model(net,loss_type, learning_rate, epochs=1000, gamma = 0.01,\n",
    "                print_every=50,eval_every=50, verbose=1, Lambda=1, alpha=0.3):\n",
    "    \n",
    "    optimizer = torch.optim.Adam(net.parameters(),lr=learning_rate)\n",
    "    criterion = torch.nn.MSELoss()\n",
    "    \n",
    "    for epoch in range(epochs): \n",
    "        for i, data in enumerate(trainloader, 0):\n",
    "            inputs, target, _ = data\n",
    "            inputs = torch.tensor(inputs, dtype=torch.float32).to(device)\n",
    "            target = torch.tensor(target, dtype=torch.float32).to(device)\n",
    "            batch_size, N_output = target.shape[0:2]                     \n",
    "\n",
    "            # forward + backward + optimize\n",
    "            outputs = net(inputs)\n",
    "            loss_mse,loss_shape,loss_temporal = torch.tensor(0),torch.tensor(0),torch.tensor(0)\n",
    "            \n",
    "            if (loss_type=='mse'):\n",
    "                loss_mse = criterion(target,outputs)\n",
    "                loss = loss_mse                   \n",
    " \n",
    "            if (loss_type=='dilate'):    \n",
    "                loss, loss_shape, loss_temporal = dilate_loss(target,outputs,alpha, gamma, device)     \n",
    "            \n",
    "            if (loss_type=='dilate_shape'):    \n",
    "                loss, loss_shape, loss_temporal = dilate_loss(target,outputs,alpha, gamma, device)     \n",
    "                loss = loss_shape\n",
    "                \n",
    "            optimizer.zero_grad()\n",
    "            loss.backward()\n",
    "            optimizer.step()          \n",
    "        \n",
    "        if(verbose):\n",
    "            if (epoch % print_every == 0):\n",
    "                print('epoch ', epoch, ' loss ',loss.item(),' loss shape ',loss_shape.item(),' loss temporal ',loss_temporal.item())\n",
    "                eval_model(net,testloader, gamma,verbose=1)\n",
    "  \n",
    "\n",
    " \n",
    "def eval_model(net,loader, gamma,verbose=1):   \n",
    "    criterion = torch.nn.MSELoss()\n",
    "    losses_mse = []\n",
    "    losses_dtw = []\n",
    "    losses_tdi = []   \n",
    "\n",
    "    for i, data in enumerate(loader, 0):\n",
    "        loss_mse, loss_dtw, loss_tdi = torch.tensor(0),torch.tensor(0),torch.tensor(0)\n",
    "        # get the inputs\n",
    "        inputs, target, breakpoints = data\n",
    "        inputs = torch.tensor(inputs, dtype=torch.float32).to(device)\n",
    "        target = torch.tensor(target, dtype=torch.float32).to(device)\n",
    "        batch_size, N_output = target.shape[0:2]\n",
    "        outputs = net(inputs)\n",
    "         \n",
    "        # MSE    \n",
    "        loss_mse = criterion(target,outputs)    \n",
    "        loss_dtw, loss_tdi = 0,0\n",
    "        # DTW and TDI\n",
    "        for k in range(batch_size):         \n",
    "            target_k_cpu = target[k,:,0:1].view(-1).detach().cpu().numpy()\n",
    "            output_k_cpu = outputs[k,:,0:1].view(-1).detach().cpu().numpy()\n",
    "\n",
    "            loss_dtw += dtw(target_k_cpu,output_k_cpu)\n",
    "            path, sim = dtw_path(target_k_cpu, output_k_cpu)   \n",
    "                       \n",
    "            Dist = 0\n",
    "            for i,j in path:\n",
    "                    Dist += (i-j)*(i-j)\n",
    "            loss_tdi += Dist / (N_output*N_output)            \n",
    "                        \n",
    "        loss_dtw = loss_dtw /batch_size\n",
    "        loss_tdi = loss_tdi / batch_size\n",
    "\n",
    "        # print statistics\n",
    "        losses_mse.append( loss_mse.item() )\n",
    "        losses_dtw.append( loss_dtw )\n",
    "        losses_tdi.append( loss_tdi )\n",
    "\n",
    "    print( ' Eval mse= ', np.array(losses_mse).mean() ,' dtw= ',np.array(losses_dtw).mean() ,' tdi= ', np.array(losses_tdi).mean()) \n",
    "\n",
    "\n",
    "encoder = EncoderRNN(input_size=1, hidden_size=128, num_grulstm_layers=1, batch_size=batch_size).to(device)\n",
    "decoder = DecoderRNN(input_size=1, hidden_size=128, num_grulstm_layers=1,fc_units=16, output_size=1).to(device)\n",
    "net_gru_dilate = Net_GRU(encoder,decoder, N_output, device).to(device)\n",
    "train_model(net_gru_dilate,loss_type='dilate',learning_rate=0.001, epochs=1000, gamma=gamma, print_every=50, eval_every=50,verbose=1)\n",
    "\n",
    "# encoder = EncoderRNN(input_size=1, hidden_size=128, num_grulstm_layers=1, batch_size=batch_size).to(device)\n",
    "# decoder = DecoderRNN(input_size=1, hidden_size=128, num_grulstm_layers=1,fc_units=16, output_size=1).to(device)\n",
    "# net_gru_mse = Net_GRU(encoder,decoder, N_output, device).to(device)\n",
    "# train_model(net_gru_mse,loss_type='mse',learning_rate=0.001, epochs=500, gamma=gamma, print_every=50, eval_every=50,verbose=1)\n",
    "\n",
    "#encoder = EncoderRNN(input_size=1, hidden_size=128, num_grulstm_layers=1, batch_size=batch_size).to(device)\n",
    "#decoder = DecoderRNN(input_size=1, hidden_size=128, num_grulstm_layers=1,fc_units=16, output_size=1).to(device)\n",
    "#net_gru_dilate = Net_GRU(encoder,decoder, N_output, device).to(device)\n",
    "#train_model(net_gru_dilate,loss_type='dilate_shape',learning_rate=0.001, epochs=500, gamma=gamma, print_every=50, eval_every=50,verbose=1)\n",
    "\n"
   ]
  },
  {
   "cell_type": "code",
   "execution_count": null,
   "metadata": {},
   "outputs": [],
   "source": []
  },
  {
   "cell_type": "code",
   "execution_count": null,
   "metadata": {},
   "outputs": [],
   "source": []
  },
  {
   "cell_type": "code",
   "execution_count": null,
   "metadata": {},
   "outputs": [],
   "source": []
  },
  {
   "cell_type": "code",
   "execution_count": null,
   "metadata": {},
   "outputs": [],
   "source": []
  },
  {
   "cell_type": "code",
   "execution_count": null,
   "metadata": {},
   "outputs": [],
   "source": []
  },
  {
   "cell_type": "code",
   "execution_count": null,
   "metadata": {},
   "outputs": [],
   "source": []
  },
  {
   "cell_type": "code",
   "execution_count": null,
   "metadata": {},
   "outputs": [],
   "source": []
  },
  {
   "cell_type": "code",
   "execution_count": null,
   "metadata": {},
   "outputs": [],
   "source": []
  },
  {
   "cell_type": "code",
   "execution_count": null,
   "metadata": {},
   "outputs": [],
   "source": [
    "\n"
   ]
  }
 ],
 "metadata": {
  "kernelspec": {
   "display_name": "Python [conda env:myenv] *",
   "language": "python",
   "name": "conda-env-myenv-py"
  },
  "language_info": {
   "codemirror_mode": {
    "name": "ipython",
    "version": 3
   },
   "file_extension": ".py",
   "mimetype": "text/x-python",
   "name": "python",
   "nbconvert_exporter": "python",
   "pygments_lexer": "ipython3",
   "version": "3.7.5"
  }
 },
 "nbformat": 4,
 "nbformat_minor": 2
}
