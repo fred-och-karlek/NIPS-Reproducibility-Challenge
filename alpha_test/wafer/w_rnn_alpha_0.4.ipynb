{
 "cells": [
  {
   "cell_type": "code",
   "execution_count": 1,
   "metadata": {},
   "outputs": [],
   "source": [
    "#alpha = 0.4, gamma = 0.01"
   ]
  },
  {
   "cell_type": "code",
   "execution_count": 2,
   "metadata": {},
   "outputs": [],
   "source": [
    "import numpy as np\n",
    "import torch\n",
    "from data.synthetic_dataset import * \n",
    "#from data.synthetic_dataset import create_synthetic_dataset, SyntheticDataset\n",
    "from models.seq2seq import EncoderRNN, DecoderRNN, Net_GRU\n",
    "from loss.dilate_loss import dilate_loss\n",
    "from torch.utils.data import DataLoader\n",
    "import random\n",
    "from tslearn.metrics import dtw, dtw_path\n",
    "import matplotlib.pyplot as plt\n",
    "import warnings\n",
    "import warnings; warnings.simplefilter('ignore')\n"
   ]
  },
  {
   "cell_type": "code",
   "execution_count": 3,
   "metadata": {},
   "outputs": [],
   "source": [
    "import os\n",
    "os.environ[\"CUDA_VISIBLE_DEVICES\"] = \"0\""
   ]
  },
  {
   "cell_type": "code",
   "execution_count": 4,
   "metadata": {},
   "outputs": [
    {
     "data": {
      "text/plain": [
       "device(type='cuda', index=0)"
      ]
     },
     "execution_count": 4,
     "metadata": {},
     "output_type": "execute_result"
    }
   ],
   "source": [
    "device = torch.device(\"cuda:0\" if torch.cuda.is_available() else \"cpu\")\n",
    "device"
   ]
  },
  {
   "cell_type": "code",
   "execution_count": 5,
   "metadata": {},
   "outputs": [
    {
     "name": "stdout",
     "output_type": "stream",
     "text": [
      "epoch  0  loss  8.562468528747559  loss shape  19.03416633605957  loss temporal  1.5813363790512085\n",
      " Eval mse=  0.3044009983539581  dtw=  4.275421083314918  tdi=  0.2904231269510926\n",
      "epoch  50  loss  2.9667110443115234  loss shape  7.147951126098633  loss temporal  0.17921780049800873\n",
      " Eval mse=  0.11695991518596809  dtw=  2.627435816716354  tdi=  0.12020126604231704\n",
      "epoch  100  loss  0.889258861541748  loss shape  0.9476277828216553  loss temporal  0.8503462672233582\n",
      " Eval mse=  0.06153869275003672  dtw=  1.0438114702922556  tdi=  1.7400470863683664\n",
      "epoch  150  loss  -0.030936047434806824  loss shape  -0.63236004114151  loss temporal  0.3700132668018341\n",
      " Eval mse=  0.03429044224321842  dtw=  0.44869290581546006  tdi=  2.9768806798473815\n",
      "epoch  200  loss  -0.07294338941574097  loss shape  -0.6916646957397461  loss temporal  0.33953750133514404\n",
      " Eval mse=  0.02196915593619148  dtw=  0.36640647041309254  tdi=  1.6273579171002426\n",
      "epoch  250  loss  -0.13444013893604279  loss shape  -0.8114395141601562  loss temporal  0.3168927729129791\n",
      " Eval mse=  0.01924425377510488  dtw=  0.33585731930765345  tdi=  0.9981428199791884\n",
      "epoch  300  loss  -0.20875892043113708  loss shape  -0.8386130332946777  loss temporal  0.2111438363790512\n",
      " Eval mse=  0.028898843564093113  dtw=  0.3062099721476164  tdi=  0.9747800468262227\n",
      "epoch  350  loss  -0.17490516602993011  loss shape  -0.8358185291290283  loss temporal  0.2657037675380707\n",
      " Eval mse=  0.023325999546796084  dtw=  0.30547380226262794  tdi=  0.9297826482830385\n",
      "epoch  400  loss  0.3052346110343933  loss shape  -0.6226667761802673  loss temporal  0.9238355159759521\n",
      " Eval mse=  0.054878714183966316  dtw=  0.4120128701794658  tdi=  1.6784824401664933\n",
      "epoch  450  loss  -0.21382275223731995  loss shape  -0.8696175813674927  loss temporal  0.22337381541728973\n",
      " Eval mse=  0.01791172611216704  dtw=  0.2817264469297801  tdi=  0.927536680541103\n",
      "epoch  500  loss  -0.19158464670181274  loss shape  -0.8679416179656982  loss temporal  0.2593199908733368\n",
      " Eval mse=  0.022762623087813457  dtw=  0.27067677237538995  tdi=  0.6750456555671176\n",
      "epoch  550  loss  -0.22146528959274292  loss shape  -0.8771724700927734  loss temporal  0.21567285060882568\n",
      " Eval mse=  0.017556603268409767  dtw=  0.2751329732316315  tdi=  0.8058420048560527\n",
      "epoch  600  loss  -0.21908174455165863  loss shape  -0.8744686841964722  loss temporal  0.21784287691116333\n",
      " Eval mse=  0.0156065264561524  dtw=  0.25055821049058874  tdi=  0.641508498092265\n",
      "epoch  650  loss  -0.08660517632961273  loss shape  -0.8155654668807983  loss temporal  0.39936837553977966\n",
      " Eval mse=  0.03548136440416177  dtw=  0.23737735995861942  tdi=  0.6108860995490808\n",
      "epoch  700  loss  -0.22897867858409882  loss shape  -0.8722949028015137  loss temporal  0.19989879429340363\n",
      " Eval mse=  0.015411146109302838  dtw=  0.2249449412969605  tdi=  0.7320370707596253\n",
      "epoch  750  loss  -0.23393875360488892  loss shape  -0.895844578742981  loss temporal  0.2073318213224411\n",
      " Eval mse=  0.020566968868176144  dtw=  0.22171361243445215  tdi=  0.7130779569892474\n",
      "epoch  800  loss  -0.16615694761276245  loss shape  -0.8737785816192627  loss temporal  0.30559080839157104\n",
      " Eval mse=  0.03424697568019231  dtw=  0.24562025179000582  tdi=  0.6158636836628512\n",
      "epoch  850  loss  0.7481340765953064  loss shape  -0.06260442733764648  loss temporal  1.2886263132095337\n",
      " Eval mse=  0.041597306604186694  dtw=  0.688444539001622  tdi=  2.1154821800208112\n",
      "epoch  900  loss  2.5476834774017334  loss shape  5.574450492858887  loss temporal  0.5298388004302979\n",
      " Eval mse=  0.09426955357193947  dtw=  2.339113966722354  tdi=  0.6978648543184183\n",
      "epoch  950  loss  0.018298596143722534  loss shape  -0.7037615180015564  loss temporal  0.499671995639801\n",
      " Eval mse=  0.02644338859245181  dtw=  0.43306313880714087  tdi=  1.5745384582032607\n"
     ]
    }
   ],
   "source": [
    "# random.seed(0)\n",
    "\n",
    "# parameters\n",
    "batch_size = 100\n",
    "N_input = 90\n",
    "N_output = 62 \n",
    "sigma = 0.01\n",
    "gamma = 0.01\n",
    "\n",
    "# Load synthetic dataset\n",
    "# X_train_input,X_train_target,X_test_input,X_test_target,train_bkp,test_bkp = create_synthetic_dataset(N,N_input,N_output,sigma)\n",
    "# dataset_train = SyntheticDataset(X_train_input,X_train_target, train_bkp)\n",
    "# dataset_test  = SyntheticDataset(X_test_input,X_test_target, test_bkp)\n",
    "# trainloader = DataLoader(dataset_train, batch_size=batch_size,shuffle=True, num_workers=1)\n",
    "# testloader  = DataLoader(dataset_test, batch_size=batch_size,shuffle=False, num_workers=1)\n",
    "\n",
    "\n",
    "# Load ECG dataset\n",
    "filepath_train = '../Wafer_TRAIN.txt'\n",
    "filepath_test = '../Wafer_TEST.txt'\n",
    "x_train_ip, x_train_op, x_test_ip, x_test_op, train_bkp, test_bkp = load_wafer(filepath_train, filepath_test)\n",
    "# print (x_train_ip.shape, x_train_op.shape, x_test_ip.shape, x_test_op.shape)\n",
    "dataset_train = create_Dataset(x_train_ip, x_train_op, train_bkp)\n",
    "dataset_test  = create_Dataset(x_test_ip, x_test_op, test_bkp)\n",
    "trainloader = DataLoader(dataset_train, batch_size=batch_size,shuffle=True, num_workers=1)\n",
    "testloader  = DataLoader(dataset_test, batch_size=batch_size,shuffle=False, num_workers=1)\n",
    "\n",
    "def train_model(net,loss_type, learning_rate, epochs=1000, gamma = 0.01,\n",
    "                print_every=50,eval_every=50, verbose=1, Lambda=1, alpha=0.4):\n",
    "    \n",
    "    optimizer = torch.optim.Adam(net.parameters(),lr=learning_rate)\n",
    "    criterion = torch.nn.MSELoss()\n",
    "    \n",
    "    for epoch in range(epochs): \n",
    "        for i, data in enumerate(trainloader, 0):\n",
    "            inputs, target, _ = data\n",
    "            inputs = torch.tensor(inputs, dtype=torch.float32).to(device)\n",
    "            target = torch.tensor(target, dtype=torch.float32).to(device)\n",
    "            batch_size, N_output = target.shape[0:2]                     \n",
    "\n",
    "            # forward + backward + optimize\n",
    "            outputs = net(inputs)\n",
    "            loss_mse,loss_shape,loss_temporal = torch.tensor(0),torch.tensor(0),torch.tensor(0)\n",
    "            \n",
    "            if (loss_type=='mse'):\n",
    "                loss_mse = criterion(target,outputs)\n",
    "                loss = loss_mse                   \n",
    " \n",
    "            if (loss_type=='dilate'):    \n",
    "                loss, loss_shape, loss_temporal = dilate_loss(target,outputs,alpha, gamma, device)     \n",
    "            \n",
    "            if (loss_type=='dilate_shape'):    \n",
    "                loss, loss_shape, loss_temporal = dilate_loss(target,outputs,alpha, gamma, device)     \n",
    "                loss = loss_shape\n",
    "                \n",
    "            optimizer.zero_grad()\n",
    "            loss.backward()\n",
    "            optimizer.step()          \n",
    "        \n",
    "        if(verbose):\n",
    "            if (epoch % print_every == 0):\n",
    "                print('epoch ', epoch, ' loss ',loss.item(),' loss shape ',loss_shape.item(),' loss temporal ',loss_temporal.item())\n",
    "                eval_model(net,testloader, gamma,verbose=1)\n",
    "  \n",
    "\n",
    " \n",
    "def eval_model(net,loader, gamma,verbose=1):   \n",
    "    criterion = torch.nn.MSELoss()\n",
    "    losses_mse = []\n",
    "    losses_dtw = []\n",
    "    losses_tdi = []   \n",
    "\n",
    "    for i, data in enumerate(loader, 0):\n",
    "        loss_mse, loss_dtw, loss_tdi = torch.tensor(0),torch.tensor(0),torch.tensor(0)\n",
    "        # get the inputs\n",
    "        inputs, target, breakpoints = data\n",
    "        inputs = torch.tensor(inputs, dtype=torch.float32).to(device)\n",
    "        target = torch.tensor(target, dtype=torch.float32).to(device)\n",
    "        batch_size, N_output = target.shape[0:2]\n",
    "        outputs = net(inputs)\n",
    "         \n",
    "        # MSE    \n",
    "        loss_mse = criterion(target,outputs)    \n",
    "        loss_dtw, loss_tdi = 0,0\n",
    "        # DTW and TDI\n",
    "        for k in range(batch_size):         \n",
    "            target_k_cpu = target[k,:,0:1].view(-1).detach().cpu().numpy()\n",
    "            output_k_cpu = outputs[k,:,0:1].view(-1).detach().cpu().numpy()\n",
    "\n",
    "            loss_dtw += dtw(target_k_cpu,output_k_cpu)\n",
    "            path, sim = dtw_path(target_k_cpu, output_k_cpu)   \n",
    "                       \n",
    "            Dist = 0\n",
    "            for i,j in path:\n",
    "                    Dist += (i-j)*(i-j)\n",
    "            loss_tdi += Dist / (N_output*N_output)            \n",
    "                        \n",
    "        loss_dtw = loss_dtw /batch_size\n",
    "        loss_tdi = loss_tdi / batch_size\n",
    "\n",
    "        # print statistics\n",
    "        losses_mse.append( loss_mse.item() )\n",
    "        losses_dtw.append( loss_dtw )\n",
    "        losses_tdi.append( loss_tdi )\n",
    "\n",
    "    print( ' Eval mse= ', np.array(losses_mse).mean() ,' dtw= ',np.array(losses_dtw).mean() ,' tdi= ', np.array(losses_tdi).mean()) \n",
    "\n",
    "\n",
    "encoder = EncoderRNN(input_size=1, hidden_size=128, num_grulstm_layers=1, batch_size=batch_size).to(device)\n",
    "decoder = DecoderRNN(input_size=1, hidden_size=128, num_grulstm_layers=1,fc_units=16, output_size=1).to(device)\n",
    "net_gru_dilate = Net_GRU(encoder,decoder, N_output, device).to(device)\n",
    "train_model(net_gru_dilate,loss_type='dilate',learning_rate=0.001, epochs=1000, gamma=gamma, print_every=50, eval_every=50,verbose=1)\n",
    "\n",
    "# encoder = EncoderRNN(input_size=1, hidden_size=128, num_grulstm_layers=1, batch_size=batch_size).to(device)\n",
    "# decoder = DecoderRNN(input_size=1, hidden_size=128, num_grulstm_layers=1,fc_units=16, output_size=1).to(device)\n",
    "# net_gru_mse = Net_GRU(encoder,decoder, N_output, device).to(device)\n",
    "# train_model(net_gru_mse,loss_type='mse',learning_rate=0.001, epochs=500, gamma=gamma, print_every=50, eval_every=50,verbose=1)\n",
    "\n",
    "#encoder = EncoderRNN(input_size=1, hidden_size=128, num_grulstm_layers=1, batch_size=batch_size).to(device)\n",
    "#decoder = DecoderRNN(input_size=1, hidden_size=128, num_grulstm_layers=1,fc_units=16, output_size=1).to(device)\n",
    "#net_gru_dilate = Net_GRU(encoder,decoder, N_output, device).to(device)\n",
    "#train_model(net_gru_dilate,loss_type='dilate_shape',learning_rate=0.001, epochs=500, gamma=gamma, print_every=50, eval_every=50,verbose=1)\n",
    "\n"
   ]
  },
  {
   "cell_type": "code",
   "execution_count": null,
   "metadata": {},
   "outputs": [],
   "source": []
  },
  {
   "cell_type": "code",
   "execution_count": null,
   "metadata": {},
   "outputs": [],
   "source": []
  },
  {
   "cell_type": "code",
   "execution_count": null,
   "metadata": {},
   "outputs": [],
   "source": []
  },
  {
   "cell_type": "code",
   "execution_count": null,
   "metadata": {},
   "outputs": [],
   "source": []
  },
  {
   "cell_type": "code",
   "execution_count": null,
   "metadata": {},
   "outputs": [],
   "source": []
  },
  {
   "cell_type": "code",
   "execution_count": null,
   "metadata": {},
   "outputs": [],
   "source": []
  },
  {
   "cell_type": "code",
   "execution_count": null,
   "metadata": {},
   "outputs": [],
   "source": []
  },
  {
   "cell_type": "code",
   "execution_count": null,
   "metadata": {},
   "outputs": [],
   "source": []
  },
  {
   "cell_type": "code",
   "execution_count": null,
   "metadata": {},
   "outputs": [],
   "source": [
    "\n"
   ]
  }
 ],
 "metadata": {
  "kernelspec": {
   "display_name": "Python [conda env:myenv] *",
   "language": "python",
   "name": "conda-env-myenv-py"
  },
  "language_info": {
   "codemirror_mode": {
    "name": "ipython",
    "version": 3
   },
   "file_extension": ".py",
   "mimetype": "text/x-python",
   "name": "python",
   "nbconvert_exporter": "python",
   "pygments_lexer": "ipython3",
   "version": "3.7.5"
  }
 },
 "nbformat": 4,
 "nbformat_minor": 2
}
