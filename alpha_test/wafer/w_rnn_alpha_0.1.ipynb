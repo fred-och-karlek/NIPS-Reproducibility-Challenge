{
 "cells": [
  {
   "cell_type": "code",
   "execution_count": 1,
   "metadata": {},
   "outputs": [],
   "source": [
    "#alpha = 0.1, gamma = 0.01"
   ]
  },
  {
   "cell_type": "code",
   "execution_count": 2,
   "metadata": {},
   "outputs": [],
   "source": [
    "import numpy as np\n",
    "import torch\n",
    "from data.synthetic_dataset import * \n",
    "#from data.synthetic_dataset import create_synthetic_dataset, SyntheticDataset\n",
    "from models.seq2seq import EncoderRNN, DecoderRNN, Net_GRU\n",
    "from loss.dilate_loss import dilate_loss\n",
    "from torch.utils.data import DataLoader\n",
    "import random\n",
    "from tslearn.metrics import dtw, dtw_path\n",
    "import matplotlib.pyplot as plt\n",
    "import warnings\n",
    "import warnings; warnings.simplefilter('ignore')\n"
   ]
  },
  {
   "cell_type": "code",
   "execution_count": 3,
   "metadata": {},
   "outputs": [],
   "source": [
    "import os\n",
    "os.environ[\"CUDA_VISIBLE_DEVICES\"] = \"0\""
   ]
  },
  {
   "cell_type": "code",
   "execution_count": 4,
   "metadata": {},
   "outputs": [
    {
     "data": {
      "text/plain": [
       "device(type='cuda', index=0)"
      ]
     },
     "execution_count": 4,
     "metadata": {},
     "output_type": "execute_result"
    }
   ],
   "source": [
    "device = torch.device(\"cuda:0\" if torch.cuda.is_available() else \"cpu\")\n",
    "device"
   ]
  },
  {
   "cell_type": "code",
   "execution_count": 5,
   "metadata": {},
   "outputs": [
    {
     "name": "stdout",
     "output_type": "stream",
     "text": [
      "epoch  0  loss  3.363548517227173  loss shape  15.397073745727539  loss temporal  2.0264902114868164\n",
      " Eval mse=  0.26232359831531843  dtw=  3.959183753973372  tdi=  0.2515470863683663\n",
      "epoch  50  loss  1.613503098487854  loss shape  13.049521446228027  loss temporal  0.34283435344696045\n",
      " Eval mse=  0.2109893873333931  dtw=  3.534251594976657  tdi=  1.9307353017689906\n",
      "epoch  100  loss  1.5752713680267334  loss shape  11.738329887390137  loss temporal  0.44604265689849854\n",
      " Eval mse=  0.21325969994068145  dtw=  3.55357065353564  tdi=  1.7280241068331597\n",
      "epoch  150  loss  0.8490024209022522  loss shape  7.554903984069824  loss temporal  0.10390222817659378\n",
      " Eval mse=  0.11938203498721123  dtw=  2.6536609344633573  tdi=  0.20373586541796743\n",
      "epoch  200  loss  0.8183383941650391  loss shape  7.410497188568115  loss temporal  0.08587632328271866\n",
      " Eval mse=  0.11893959691127141  dtw=  2.648376192732867  tdi=  0.18357509538674988\n",
      "epoch  250  loss  0.8585404753684998  loss shape  7.41017484664917  loss temporal  0.1305810660123825\n",
      " Eval mse=  0.11821253697077433  dtw=  2.6400685657325775  tdi=  0.07372797433229274\n",
      "epoch  300  loss  0.7851154804229736  loss shape  6.903589248657227  loss temporal  0.10528506338596344\n",
      " Eval mse=  0.11716042819122473  dtw=  2.625937869461961  tdi=  0.07753299514394728\n",
      "epoch  350  loss  0.7709246873855591  loss shape  6.886390209197998  loss temporal  0.09142851084470749\n",
      " Eval mse=  0.11736132316291333  dtw=  2.6284058990877273  tdi=  0.09324657474852585\n",
      "epoch  400  loss  0.79923415184021  loss shape  7.269651412963867  loss temporal  0.08029894530773163\n",
      " Eval mse=  0.11701624343792598  dtw=  2.6222436509282145  tdi=  0.07779305411030178\n",
      "epoch  450  loss  0.8410479426383972  loss shape  7.051934719085693  loss temporal  0.15094944834709167\n",
      " Eval mse=  0.11384722540775935  dtw=  2.577606333586076  tdi=  0.10096570412764481\n",
      "epoch  500  loss  0.6238517761230469  loss shape  4.794197082519531  loss temporal  0.16048011183738708\n",
      " Eval mse=  0.08963539488613606  dtw=  2.250922934169997  tdi=  0.2804944502254596\n",
      "epoch  550  loss  0.33697450160980225  loss shape  1.420592188835144  loss temporal  0.21657252311706543\n",
      " Eval mse=  0.04685701355338097  dtw=  1.2533927832336995  tdi=  0.9483344172736732\n",
      "epoch  600  loss  0.35732412338256836  loss shape  1.2668181657791138  loss temporal  0.256269246339798\n",
      " Eval mse=  0.047466428577899934  dtw=  1.0227086747799266  tdi=  2.523495274020118\n",
      "epoch  650  loss  0.1608724594116211  loss shape  -0.1535685658454895  loss temporal  0.19581034779548645\n",
      " Eval mse=  0.02325360005100568  dtw=  0.6999273254074577  tdi=  0.9526452480055497\n",
      "epoch  700  loss  0.09442246705293655  loss shape  -0.6783657073974609  loss temporal  0.18028782308101654\n",
      " Eval mse=  0.014976425158480803  dtw=  0.39912997589903954  tdi=  0.6171195802983004\n",
      "epoch  750  loss  0.12150963395833969  loss shape  -0.6535409688949585  loss temporal  0.2076263725757599\n",
      " Eval mse=  0.013169096270576119  dtw=  0.46331394997998315  tdi=  0.6309340097121054\n",
      "epoch  800  loss  0.11571874469518661  loss shape  -0.7893322706222534  loss temporal  0.2162799835205078\n",
      " Eval mse=  0.019253711216151714  dtw=  0.3611798214116567  tdi=  0.7190161723898716\n",
      "epoch  850  loss  0.05828983336687088  loss shape  -0.7738875150680542  loss temporal  0.15075398981571198\n",
      " Eval mse=  0.012225993412236373  dtw=  0.346571127492655  tdi=  0.6617354751994451\n",
      "epoch  900  loss  0.0900312140583992  loss shape  -0.7609444260597229  loss temporal  0.18458406627178192\n",
      " Eval mse=  0.016549143459027013  dtw=  0.3391070777334581  tdi=  0.6407270204647938\n",
      "epoch  950  loss  0.04532128572463989  loss shape  -0.832984447479248  loss temporal  0.14291082322597504\n",
      " Eval mse=  0.01385566204165419  dtw=  0.3214214830452135  tdi=  0.6480394987859868\n"
     ]
    }
   ],
   "source": [
    "# random.seed(0)\n",
    "\n",
    "# parameters\n",
    "batch_size = 100\n",
    "N_input = 90\n",
    "N_output = 62 \n",
    "sigma = 0.01\n",
    "gamma = 0.01\n",
    "\n",
    "# Load synthetic dataset\n",
    "# X_train_input,X_train_target,X_test_input,X_test_target,train_bkp,test_bkp = create_synthetic_dataset(N,N_input,N_output,sigma)\n",
    "# dataset_train = SyntheticDataset(X_train_input,X_train_target, train_bkp)\n",
    "# dataset_test  = SyntheticDataset(X_test_input,X_test_target, test_bkp)\n",
    "# trainloader = DataLoader(dataset_train, batch_size=batch_size,shuffle=True, num_workers=1)\n",
    "# testloader  = DataLoader(dataset_test, batch_size=batch_size,shuffle=False, num_workers=1)\n",
    "\n",
    "\n",
    "# Load ECG dataset\n",
    "filepath_train = '../Wafer_TRAIN.txt'\n",
    "filepath_test = '../Wafer_TEST.txt'\n",
    "x_train_ip, x_train_op, x_test_ip, x_test_op, train_bkp, test_bkp = load_wafer(filepath_train, filepath_test)\n",
    "# print (x_train_ip.shape, x_train_op.shape, x_test_ip.shape, x_test_op.shape)\n",
    "dataset_train = create_Dataset(x_train_ip, x_train_op, train_bkp)\n",
    "dataset_test  = create_Dataset(x_test_ip, x_test_op, test_bkp)\n",
    "trainloader = DataLoader(dataset_train, batch_size=batch_size,shuffle=True, num_workers=1)\n",
    "testloader  = DataLoader(dataset_test, batch_size=batch_size,shuffle=False, num_workers=1)\n",
    "\n",
    "def train_model(net,loss_type, learning_rate, epochs=1000, gamma = 0.01,\n",
    "                print_every=50,eval_every=50, verbose=1, Lambda=1, alpha=0.1):\n",
    "    \n",
    "    optimizer = torch.optim.Adam(net.parameters(),lr=learning_rate)\n",
    "    criterion = torch.nn.MSELoss()\n",
    "    \n",
    "    for epoch in range(epochs): \n",
    "        for i, data in enumerate(trainloader, 0):\n",
    "            inputs, target, _ = data\n",
    "            inputs = torch.tensor(inputs, dtype=torch.float32).to(device)\n",
    "            target = torch.tensor(target, dtype=torch.float32).to(device)\n",
    "            batch_size, N_output = target.shape[0:2]                     \n",
    "\n",
    "            # forward + backward + optimize\n",
    "            outputs = net(inputs)\n",
    "            loss_mse,loss_shape,loss_temporal = torch.tensor(0),torch.tensor(0),torch.tensor(0)\n",
    "            \n",
    "            if (loss_type=='mse'):\n",
    "                loss_mse = criterion(target,outputs)\n",
    "                loss = loss_mse                   \n",
    " \n",
    "            if (loss_type=='dilate'):    \n",
    "                loss, loss_shape, loss_temporal = dilate_loss(target,outputs,alpha, gamma, device)     \n",
    "            \n",
    "            if (loss_type=='dilate_shape'):    \n",
    "                loss, loss_shape, loss_temporal = dilate_loss(target,outputs,alpha, gamma, device)     \n",
    "                loss = loss_shape\n",
    "                \n",
    "            optimizer.zero_grad()\n",
    "            loss.backward()\n",
    "            optimizer.step()          \n",
    "        \n",
    "        if(verbose):\n",
    "            if (epoch % print_every == 0):\n",
    "                print('epoch ', epoch, ' loss ',loss.item(),' loss shape ',loss_shape.item(),' loss temporal ',loss_temporal.item())\n",
    "                eval_model(net,testloader, gamma,verbose=1)\n",
    "  \n",
    "\n",
    " \n",
    "def eval_model(net,loader, gamma,verbose=1):   \n",
    "    criterion = torch.nn.MSELoss()\n",
    "    losses_mse = []\n",
    "    losses_dtw = []\n",
    "    losses_tdi = []   \n",
    "\n",
    "    for i, data in enumerate(loader, 0):\n",
    "        loss_mse, loss_dtw, loss_tdi = torch.tensor(0),torch.tensor(0),torch.tensor(0)\n",
    "        # get the inputs\n",
    "        inputs, target, breakpoints = data\n",
    "        inputs = torch.tensor(inputs, dtype=torch.float32).to(device)\n",
    "        target = torch.tensor(target, dtype=torch.float32).to(device)\n",
    "        batch_size, N_output = target.shape[0:2]\n",
    "        outputs = net(inputs)\n",
    "         \n",
    "        # MSE    \n",
    "        loss_mse = criterion(target,outputs)    \n",
    "        loss_dtw, loss_tdi = 0,0\n",
    "        # DTW and TDI\n",
    "        for k in range(batch_size):         \n",
    "            target_k_cpu = target[k,:,0:1].view(-1).detach().cpu().numpy()\n",
    "            output_k_cpu = outputs[k,:,0:1].view(-1).detach().cpu().numpy()\n",
    "\n",
    "            loss_dtw += dtw(target_k_cpu,output_k_cpu)\n",
    "            path, sim = dtw_path(target_k_cpu, output_k_cpu)   \n",
    "                       \n",
    "            Dist = 0\n",
    "            for i,j in path:\n",
    "                    Dist += (i-j)*(i-j)\n",
    "            loss_tdi += Dist / (N_output*N_output)            \n",
    "                        \n",
    "        loss_dtw = loss_dtw /batch_size\n",
    "        loss_tdi = loss_tdi / batch_size\n",
    "\n",
    "        # print statistics\n",
    "        losses_mse.append( loss_mse.item() )\n",
    "        losses_dtw.append( loss_dtw )\n",
    "        losses_tdi.append( loss_tdi )\n",
    "\n",
    "    print( ' Eval mse= ', np.array(losses_mse).mean() ,' dtw= ',np.array(losses_dtw).mean() ,' tdi= ', np.array(losses_tdi).mean()) \n",
    "\n",
    "\n",
    "encoder = EncoderRNN(input_size=1, hidden_size=128, num_grulstm_layers=1, batch_size=batch_size).to(device)\n",
    "decoder = DecoderRNN(input_size=1, hidden_size=128, num_grulstm_layers=1,fc_units=16, output_size=1).to(device)\n",
    "net_gru_dilate = Net_GRU(encoder,decoder, N_output, device).to(device)\n",
    "train_model(net_gru_dilate,loss_type='dilate',learning_rate=0.001, epochs=1000, gamma=gamma, print_every=50, eval_every=50,verbose=1)\n",
    "\n",
    "# encoder = EncoderRNN(input_size=1, hidden_size=128, num_grulstm_layers=1, batch_size=batch_size).to(device)\n",
    "# decoder = DecoderRNN(input_size=1, hidden_size=128, num_grulstm_layers=1,fc_units=16, output_size=1).to(device)\n",
    "# net_gru_mse = Net_GRU(encoder,decoder, N_output, device).to(device)\n",
    "# train_model(net_gru_mse,loss_type='mse',learning_rate=0.001, epochs=500, gamma=gamma, print_every=50, eval_every=50,verbose=1)\n",
    "\n",
    "#encoder = EncoderRNN(input_size=1, hidden_size=128, num_grulstm_layers=1, batch_size=batch_size).to(device)\n",
    "#decoder = DecoderRNN(input_size=1, hidden_size=128, num_grulstm_layers=1,fc_units=16, output_size=1).to(device)\n",
    "#net_gru_dilate = Net_GRU(encoder,decoder, N_output, device).to(device)\n",
    "#train_model(net_gru_dilate,loss_type='dilate_shape',learning_rate=0.001, epochs=500, gamma=gamma, print_every=50, eval_every=50,verbose=1)\n",
    "\n"
   ]
  },
  {
   "cell_type": "code",
   "execution_count": null,
   "metadata": {},
   "outputs": [],
   "source": []
  },
  {
   "cell_type": "code",
   "execution_count": null,
   "metadata": {},
   "outputs": [],
   "source": []
  },
  {
   "cell_type": "code",
   "execution_count": null,
   "metadata": {},
   "outputs": [],
   "source": []
  },
  {
   "cell_type": "code",
   "execution_count": null,
   "metadata": {},
   "outputs": [],
   "source": []
  },
  {
   "cell_type": "code",
   "execution_count": null,
   "metadata": {},
   "outputs": [],
   "source": []
  },
  {
   "cell_type": "code",
   "execution_count": null,
   "metadata": {},
   "outputs": [],
   "source": []
  },
  {
   "cell_type": "code",
   "execution_count": null,
   "metadata": {},
   "outputs": [],
   "source": []
  },
  {
   "cell_type": "code",
   "execution_count": null,
   "metadata": {},
   "outputs": [],
   "source": []
  },
  {
   "cell_type": "code",
   "execution_count": null,
   "metadata": {},
   "outputs": [],
   "source": [
    "\n"
   ]
  }
 ],
 "metadata": {
  "kernelspec": {
   "display_name": "Python [conda env:myenv] *",
   "language": "python",
   "name": "conda-env-myenv-py"
  },
  "language_info": {
   "codemirror_mode": {
    "name": "ipython",
    "version": 3
   },
   "file_extension": ".py",
   "mimetype": "text/x-python",
   "name": "python",
   "nbconvert_exporter": "python",
   "pygments_lexer": "ipython3",
   "version": "3.7.5"
  }
 },
 "nbformat": 4,
 "nbformat_minor": 2
}
