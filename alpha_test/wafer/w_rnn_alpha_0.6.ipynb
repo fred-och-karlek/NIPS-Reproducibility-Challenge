{
 "cells": [
  {
   "cell_type": "code",
   "execution_count": 1,
   "metadata": {},
   "outputs": [],
   "source": [
    "#alpha = 0.6, gamma = 0.01"
   ]
  },
  {
   "cell_type": "code",
   "execution_count": 2,
   "metadata": {},
   "outputs": [],
   "source": [
    "import numpy as np\n",
    "import torch\n",
    "from data.synthetic_dataset import * \n",
    "#from data.synthetic_dataset import create_synthetic_dataset, SyntheticDataset\n",
    "from models.seq2seq import EncoderRNN, DecoderRNN, Net_GRU\n",
    "from loss.dilate_loss import dilate_loss\n",
    "from torch.utils.data import DataLoader\n",
    "import random\n",
    "from tslearn.metrics import dtw, dtw_path\n",
    "import matplotlib.pyplot as plt\n",
    "import warnings\n",
    "import warnings; warnings.simplefilter('ignore')\n"
   ]
  },
  {
   "cell_type": "code",
   "execution_count": 3,
   "metadata": {},
   "outputs": [],
   "source": [
    "import os\n",
    "os.environ[\"CUDA_VISIBLE_DEVICES\"] = \"0\""
   ]
  },
  {
   "cell_type": "code",
   "execution_count": 4,
   "metadata": {},
   "outputs": [
    {
     "data": {
      "text/plain": [
       "device(type='cuda', index=0)"
      ]
     },
     "execution_count": 4,
     "metadata": {},
     "output_type": "execute_result"
    }
   ],
   "source": [
    "device = torch.device(\"cuda:0\" if torch.cuda.is_available() else \"cpu\")\n",
    "device"
   ]
  },
  {
   "cell_type": "code",
   "execution_count": 5,
   "metadata": {},
   "outputs": [
    {
     "name": "stdout",
     "output_type": "stream",
     "text": [
      "epoch  0  loss  14.5147705078125  loss shape  23.555858612060547  loss temporal  0.9531387090682983\n",
      " Eval mse=  0.36062604933977127  dtw=  4.6628457116205855  tdi=  0.015298517169614988\n",
      "epoch  50  loss  -0.005950272083282471  loss shape  -0.5332457423210144  loss temporal  0.7849929332733154\n",
      " Eval mse=  0.04860979337245226  dtw=  0.5010226390497142  tdi=  1.8972972164412072\n",
      "epoch  100  loss  0.0801038146018982  loss shape  -0.47678640484809875  loss temporal  0.9154391884803772\n",
      " Eval mse=  0.05200360827147961  dtw=  0.48759396358478885  tdi=  1.9560421002428028\n",
      "epoch  150  loss  -0.23377618193626404  loss shape  -0.7331402897834778  loss temporal  0.5152699947357178\n",
      " Eval mse=  0.03722770931199193  dtw=  0.35368049773138815  tdi=  1.223076482830385\n",
      "epoch  200  loss  -0.28850284218788147  loss shape  -0.7667678594589233  loss temporal  0.4288947582244873\n",
      " Eval mse=  0.03449983950704336  dtw=  0.3436612229089695  tdi=  1.4181201005896633\n",
      "epoch  250  loss  -0.23822134733200073  loss shape  -0.8218606114387512  loss temporal  0.637237548828125\n",
      " Eval mse=  0.044825087487697604  dtw=  0.2855543992978304  tdi=  1.2920667707249394\n",
      "epoch  300  loss  -0.3609998822212219  loss shape  -0.8187528848648071  loss temporal  0.32562968134880066\n",
      " Eval mse=  0.03145667299007376  dtw=  0.26184155861244957  tdi=  1.86838813735692\n",
      "epoch  350  loss  -0.4036131203174591  loss shape  -0.8872219920158386  loss temporal  0.321800172328949\n",
      " Eval mse=  0.035621186904609206  dtw=  0.22705464490647065  tdi=  0.8166129899410337\n",
      "epoch  400  loss  -0.33972156047821045  loss shape  -0.7844552993774414  loss temporal  0.32737913727760315\n",
      " Eval mse=  0.02597542662794391  dtw=  0.24263073458248247  tdi=  1.2033972858133886\n",
      "epoch  450  loss  -0.38070428371429443  loss shape  -0.8570691347122192  loss temporal  0.3338431119918823\n",
      " Eval mse=  0.02645614240318537  dtw=  0.22882212747481995  tdi=  0.8219870360735346\n",
      "epoch  500  loss  -0.39751216769218445  loss shape  -0.8664385080337524  loss temporal  0.3058774173259735\n",
      " Eval mse=  0.03203227886309226  dtw=  0.22434557435926805  tdi=  0.6846933315990289\n",
      "epoch  550  loss  -0.3986040949821472  loss shape  -0.8965240120887756  loss temporal  0.3482758700847626\n",
      " Eval mse=  0.03247316926717758  dtw=  0.22729707913634206  tdi=  0.8588632934443289\n",
      "epoch  600  loss  -0.4475778639316559  loss shape  -0.9164685010910034  loss temporal  0.2557581067085266\n",
      " Eval mse=  0.02511109538997213  dtw=  0.206365303801307  tdi=  0.6690457422823448\n",
      "epoch  650  loss  -0.40756815671920776  loss shape  -0.8643437623977661  loss temporal  0.2775954008102417\n",
      " Eval mse=  0.033549716354658206  dtw=  0.19448898586040614  tdi=  0.6359432015261881\n",
      "epoch  700  loss  -0.370176762342453  loss shape  -0.8051295876502991  loss temporal  0.2822524905204773\n",
      " Eval mse=  0.02517569422100981  dtw=  0.2992288248145176  tdi=  1.3460819892473117\n",
      "epoch  750  loss  -0.4561353623867035  loss shape  -0.9125900268554688  loss temporal  0.2285466492176056\n",
      " Eval mse=  0.027370697601387897  dtw=  0.1922403209328765  tdi=  0.6698428720083247\n",
      "epoch  800  loss  -0.42945778369903564  loss shape  -0.885221004486084  loss temporal  0.25418713688850403\n",
      " Eval mse=  0.026803621649742128  dtw=  0.2101059996333998  tdi=  0.6911774627124523\n",
      "epoch  850  loss  -0.44422122836112976  loss shape  -0.8906264305114746  loss temporal  0.22538667917251587\n",
      " Eval mse=  0.021540608505407968  dtw=  0.21234248262553654  tdi=  0.843136619840444\n",
      "epoch  900  loss  -0.44212019443511963  loss shape  -0.901317834854126  loss temporal  0.24667632579803467\n",
      " Eval mse=  0.03144667592520515  dtw=  0.2068049113821639  tdi=  0.7305614810960803\n",
      "epoch  950  loss  -0.3633865714073181  loss shape  -0.8703707456588745  loss temporal  0.3970896601676941\n",
      " Eval mse=  0.05022809865574042  dtw=  0.21957689808017194  tdi=  0.8235141345820327\n"
     ]
    }
   ],
   "source": [
    "# random.seed(0)\n",
    "\n",
    "# parameters\n",
    "batch_size = 100\n",
    "N_input = 90\n",
    "N_output = 62 \n",
    "sigma = 0.01\n",
    "gamma = 0.01\n",
    "\n",
    "# Load synthetic dataset\n",
    "# X_train_input,X_train_target,X_test_input,X_test_target,train_bkp,test_bkp = create_synthetic_dataset(N,N_input,N_output,sigma)\n",
    "# dataset_train = SyntheticDataset(X_train_input,X_train_target, train_bkp)\n",
    "# dataset_test  = SyntheticDataset(X_test_input,X_test_target, test_bkp)\n",
    "# trainloader = DataLoader(dataset_train, batch_size=batch_size,shuffle=True, num_workers=1)\n",
    "# testloader  = DataLoader(dataset_test, batch_size=batch_size,shuffle=False, num_workers=1)\n",
    "\n",
    "\n",
    "# Load ECG dataset\n",
    "filepath_train = '../Wafer_TRAIN.txt'\n",
    "filepath_test = '../Wafer_TEST.txt'\n",
    "x_train_ip, x_train_op, x_test_ip, x_test_op, train_bkp, test_bkp = load_wafer(filepath_train, filepath_test)\n",
    "# print (x_train_ip.shape, x_train_op.shape, x_test_ip.shape, x_test_op.shape)\n",
    "dataset_train = create_Dataset(x_train_ip, x_train_op, train_bkp)\n",
    "dataset_test  = create_Dataset(x_test_ip, x_test_op, test_bkp)\n",
    "trainloader = DataLoader(dataset_train, batch_size=batch_size,shuffle=True, num_workers=1)\n",
    "testloader  = DataLoader(dataset_test, batch_size=batch_size,shuffle=False, num_workers=1)\n",
    "\n",
    "def train_model(net,loss_type, learning_rate, epochs=1000, gamma = 0.01,\n",
    "                print_every=50,eval_every=50, verbose=1, Lambda=1, alpha=0.6):\n",
    "    \n",
    "    optimizer = torch.optim.Adam(net.parameters(),lr=learning_rate)\n",
    "    criterion = torch.nn.MSELoss()\n",
    "    \n",
    "    for epoch in range(epochs): \n",
    "        for i, data in enumerate(trainloader, 0):\n",
    "            inputs, target, _ = data\n",
    "            inputs = torch.tensor(inputs, dtype=torch.float32).to(device)\n",
    "            target = torch.tensor(target, dtype=torch.float32).to(device)\n",
    "            batch_size, N_output = target.shape[0:2]                     \n",
    "\n",
    "            # forward + backward + optimize\n",
    "            outputs = net(inputs)\n",
    "            loss_mse,loss_shape,loss_temporal = torch.tensor(0),torch.tensor(0),torch.tensor(0)\n",
    "            \n",
    "            if (loss_type=='mse'):\n",
    "                loss_mse = criterion(target,outputs)\n",
    "                loss = loss_mse                   \n",
    " \n",
    "            if (loss_type=='dilate'):    \n",
    "                loss, loss_shape, loss_temporal = dilate_loss(target,outputs,alpha, gamma, device)     \n",
    "            \n",
    "            if (loss_type=='dilate_shape'):    \n",
    "                loss, loss_shape, loss_temporal = dilate_loss(target,outputs,alpha, gamma, device)     \n",
    "                loss = loss_shape\n",
    "                \n",
    "            optimizer.zero_grad()\n",
    "            loss.backward()\n",
    "            optimizer.step()          \n",
    "        \n",
    "        if(verbose):\n",
    "            if (epoch % print_every == 0):\n",
    "                print('epoch ', epoch, ' loss ',loss.item(),' loss shape ',loss_shape.item(),' loss temporal ',loss_temporal.item())\n",
    "                eval_model(net,testloader, gamma,verbose=1)\n",
    "  \n",
    "\n",
    " \n",
    "def eval_model(net,loader, gamma,verbose=1):   \n",
    "    criterion = torch.nn.MSELoss()\n",
    "    losses_mse = []\n",
    "    losses_dtw = []\n",
    "    losses_tdi = []   \n",
    "\n",
    "    for i, data in enumerate(loader, 0):\n",
    "        loss_mse, loss_dtw, loss_tdi = torch.tensor(0),torch.tensor(0),torch.tensor(0)\n",
    "        # get the inputs\n",
    "        inputs, target, breakpoints = data\n",
    "        inputs = torch.tensor(inputs, dtype=torch.float32).to(device)\n",
    "        target = torch.tensor(target, dtype=torch.float32).to(device)\n",
    "        batch_size, N_output = target.shape[0:2]\n",
    "        outputs = net(inputs)\n",
    "         \n",
    "        # MSE    \n",
    "        loss_mse = criterion(target,outputs)    \n",
    "        loss_dtw, loss_tdi = 0,0\n",
    "        # DTW and TDI\n",
    "        for k in range(batch_size):         \n",
    "            target_k_cpu = target[k,:,0:1].view(-1).detach().cpu().numpy()\n",
    "            output_k_cpu = outputs[k,:,0:1].view(-1).detach().cpu().numpy()\n",
    "\n",
    "            loss_dtw += dtw(target_k_cpu,output_k_cpu)\n",
    "            path, sim = dtw_path(target_k_cpu, output_k_cpu)   \n",
    "                       \n",
    "            Dist = 0\n",
    "            for i,j in path:\n",
    "                    Dist += (i-j)*(i-j)\n",
    "            loss_tdi += Dist / (N_output*N_output)            \n",
    "                        \n",
    "        loss_dtw = loss_dtw /batch_size\n",
    "        loss_tdi = loss_tdi / batch_size\n",
    "\n",
    "        # print statistics\n",
    "        losses_mse.append( loss_mse.item() )\n",
    "        losses_dtw.append( loss_dtw )\n",
    "        losses_tdi.append( loss_tdi )\n",
    "\n",
    "    print( ' Eval mse= ', np.array(losses_mse).mean() ,' dtw= ',np.array(losses_dtw).mean() ,' tdi= ', np.array(losses_tdi).mean()) \n",
    "\n",
    "\n",
    "encoder = EncoderRNN(input_size=1, hidden_size=128, num_grulstm_layers=1, batch_size=batch_size).to(device)\n",
    "decoder = DecoderRNN(input_size=1, hidden_size=128, num_grulstm_layers=1,fc_units=16, output_size=1).to(device)\n",
    "net_gru_dilate = Net_GRU(encoder,decoder, N_output, device).to(device)\n",
    "train_model(net_gru_dilate,loss_type='dilate',learning_rate=0.001, epochs=1000, gamma=gamma, print_every=50, eval_every=50,verbose=1)\n",
    "\n",
    "# encoder = EncoderRNN(input_size=1, hidden_size=128, num_grulstm_layers=1, batch_size=batch_size).to(device)\n",
    "# decoder = DecoderRNN(input_size=1, hidden_size=128, num_grulstm_layers=1,fc_units=16, output_size=1).to(device)\n",
    "# net_gru_mse = Net_GRU(encoder,decoder, N_output, device).to(device)\n",
    "# train_model(net_gru_mse,loss_type='mse',learning_rate=0.001, epochs=500, gamma=gamma, print_every=50, eval_every=50,verbose=1)\n",
    "\n",
    "#encoder = EncoderRNN(input_size=1, hidden_size=128, num_grulstm_layers=1, batch_size=batch_size).to(device)\n",
    "#decoder = DecoderRNN(input_size=1, hidden_size=128, num_grulstm_layers=1,fc_units=16, output_size=1).to(device)\n",
    "#net_gru_dilate = Net_GRU(encoder,decoder, N_output, device).to(device)\n",
    "#train_model(net_gru_dilate,loss_type='dilate_shape',learning_rate=0.001, epochs=500, gamma=gamma, print_every=50, eval_every=50,verbose=1)\n",
    "\n"
   ]
  },
  {
   "cell_type": "code",
   "execution_count": null,
   "metadata": {},
   "outputs": [],
   "source": []
  },
  {
   "cell_type": "code",
   "execution_count": null,
   "metadata": {},
   "outputs": [],
   "source": []
  },
  {
   "cell_type": "code",
   "execution_count": null,
   "metadata": {},
   "outputs": [],
   "source": []
  },
  {
   "cell_type": "code",
   "execution_count": null,
   "metadata": {},
   "outputs": [],
   "source": []
  },
  {
   "cell_type": "code",
   "execution_count": null,
   "metadata": {},
   "outputs": [],
   "source": []
  },
  {
   "cell_type": "code",
   "execution_count": null,
   "metadata": {},
   "outputs": [],
   "source": []
  },
  {
   "cell_type": "code",
   "execution_count": null,
   "metadata": {},
   "outputs": [],
   "source": []
  },
  {
   "cell_type": "code",
   "execution_count": null,
   "metadata": {},
   "outputs": [],
   "source": []
  },
  {
   "cell_type": "code",
   "execution_count": null,
   "metadata": {},
   "outputs": [],
   "source": [
    "\n"
   ]
  }
 ],
 "metadata": {
  "kernelspec": {
   "display_name": "Python [conda env:myenv] *",
   "language": "python",
   "name": "conda-env-myenv-py"
  },
  "language_info": {
   "codemirror_mode": {
    "name": "ipython",
    "version": 3
   },
   "file_extension": ".py",
   "mimetype": "text/x-python",
   "name": "python",
   "nbconvert_exporter": "python",
   "pygments_lexer": "ipython3",
   "version": "3.7.5"
  }
 },
 "nbformat": 4,
 "nbformat_minor": 2
}
