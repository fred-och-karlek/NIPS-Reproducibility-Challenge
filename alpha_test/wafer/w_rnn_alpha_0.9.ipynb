{
 "cells": [
  {
   "cell_type": "code",
   "execution_count": 1,
   "metadata": {},
   "outputs": [],
   "source": [
    "#alpha = 0.9, gamma = 0.01"
   ]
  },
  {
   "cell_type": "code",
   "execution_count": 2,
   "metadata": {},
   "outputs": [],
   "source": [
    "import numpy as np\n",
    "import torch\n",
    "from data.synthetic_dataset import * \n",
    "#from data.synthetic_dataset import create_synthetic_dataset, SyntheticDataset\n",
    "from models.seq2seq import EncoderRNN, DecoderRNN, Net_GRU\n",
    "from loss.dilate_loss import dilate_loss\n",
    "from torch.utils.data import DataLoader\n",
    "import random\n",
    "from tslearn.metrics import dtw, dtw_path\n",
    "import matplotlib.pyplot as plt\n",
    "import warnings\n",
    "import warnings; warnings.simplefilter('ignore')\n"
   ]
  },
  {
   "cell_type": "code",
   "execution_count": 3,
   "metadata": {},
   "outputs": [],
   "source": [
    "import os\n",
    "os.environ[\"CUDA_VISIBLE_DEVICES\"] = \"0\""
   ]
  },
  {
   "cell_type": "code",
   "execution_count": 4,
   "metadata": {},
   "outputs": [
    {
     "data": {
      "text/plain": [
       "device(type='cuda', index=0)"
      ]
     },
     "execution_count": 4,
     "metadata": {},
     "output_type": "execute_result"
    }
   ],
   "source": [
    "device = torch.device(\"cuda:0\" if torch.cuda.is_available() else \"cpu\")\n",
    "device"
   ]
  },
  {
   "cell_type": "code",
   "execution_count": 5,
   "metadata": {},
   "outputs": [
    {
     "name": "stdout",
     "output_type": "stream",
     "text": [
      "epoch  0  loss  16.025802612304688  loss shape  17.563982009887695  loss temporal  2.182180166244507\n",
      " Eval mse=  0.28340605050325396  dtw=  4.119657870400584  tdi=  0.09585197710718003\n",
      "epoch  50  loss  -0.18935135006904602  loss shape  -0.6817517876625061  loss temporal  4.242252349853516\n",
      " Eval mse=  0.15890450427929562  dtw=  0.3727901700821553  tdi=  3.795600156087409\n",
      "epoch  100  loss  -0.4272952079772949  loss shape  -0.681221067905426  loss temporal  1.858036994934082\n",
      " Eval mse=  0.1330499418079853  dtw=  0.40411211080723614  tdi=  2.9563690600069368\n",
      "epoch  150  loss  -0.6024158596992493  loss shape  -0.7844483852386475  loss temporal  1.0358771085739136\n",
      " Eval mse=  0.06544808292140564  dtw=  0.30816593480535176  tdi=  2.0739104231703087\n",
      "epoch  200  loss  -0.42301174998283386  loss shape  -0.7761667370796204  loss temporal  2.755383014678955\n",
      " Eval mse=  0.15569677179058392  dtw=  0.21655135829684757  tdi=  2.9886412591050986\n",
      "epoch  250  loss  -0.6535681486129761  loss shape  -0.8194277882575989  loss temporal  0.839168131351471\n",
      " Eval mse=  0.07071041638652484  dtw=  0.32066505082733315  tdi=  1.7709539108567462\n",
      "epoch  300  loss  -0.5990378856658936  loss shape  -0.7784720659255981  loss temporal  1.0158694982528687\n",
      " Eval mse=  0.07646569572389125  dtw=  0.2216222323273421  tdi=  1.3338859261186264\n",
      "epoch  350  loss  -0.6158919930458069  loss shape  -0.8140486478805542  loss temporal  1.167517900466919\n",
      " Eval mse=  0.07397709501286348  dtw=  0.28993704348299426  tdi=  2.336628598681928\n",
      "epoch  400  loss  -0.685693085193634  loss shape  -0.8659565448760986  loss temporal  0.9366779923439026\n",
      " Eval mse=  0.0678624140098691  dtw=  0.24456419096602597  tdi=  1.0878958983697538\n",
      "epoch  450  loss  -0.6289990544319153  loss shape  -0.8109368681907654  loss temporal  1.008440613746643\n",
      " Eval mse=  0.06585056452701489  dtw=  0.2631405853027129  tdi=  1.4235437478321196\n",
      "epoch  500  loss  -0.5809389352798462  loss shape  -0.7664178013801575  loss temporal  1.0883708000183105\n",
      " Eval mse=  0.06835902264962594  dtw=  0.2716658357475822  tdi=  2.3374956208810267\n",
      "epoch  550  loss  -0.6482139825820923  loss shape  -0.8342353105545044  loss temporal  1.0259778499603271\n",
      " Eval mse=  0.07631102117399374  dtw=  0.23774258286020808  tdi=  1.4954301942421087\n",
      "epoch  600  loss  -0.732729434967041  loss shape  -0.8981882333755493  loss temporal  0.7563996315002441\n",
      " Eval mse=  0.05960408560931683  dtw=  0.2055786146380836  tdi=  1.0261650624349636\n",
      "epoch  650  loss  -0.7138810157775879  loss shape  -0.8593345284461975  loss temporal  0.5952005386352539\n",
      " Eval mse=  0.05193905724833409  dtw=  0.23144976304352216  tdi=  1.1280296566077004\n",
      "epoch  700  loss  -0.7427778244018555  loss shape  -0.8915013670921326  loss temporal  0.5957338213920593\n",
      " Eval mse=  0.05560669445743163  dtw=  0.19283342125701802  tdi=  0.7514991762053417\n",
      "epoch  750  loss  -0.7636764645576477  loss shape  -0.918656051158905  loss temporal  0.6311398148536682\n",
      " Eval mse=  0.05701339381436507  dtw=  0.18998287192659477  tdi=  0.7883085761359695\n",
      "epoch  800  loss  -0.7031338810920715  loss shape  -0.8592990040779114  loss temporal  0.7023521661758423\n",
      " Eval mse=  0.056599430118997894  dtw=  0.19174200653244058  tdi=  0.8552997745404093\n",
      "epoch  850  loss  -0.7118268013000488  loss shape  -0.8744351863861084  loss temporal  0.7516483068466187\n",
      " Eval mse=  0.06319955835739771  dtw=  0.19680142387349264  tdi=  0.9802660856746445\n",
      "epoch  900  loss  -0.6914152503013611  loss shape  -0.8702424168586731  loss temporal  0.9180288314819336\n",
      " Eval mse=  0.07083009903629621  dtw=  0.20598242228195524  tdi=  1.2786180627818244\n",
      "epoch  950  loss  -0.7241739630699158  loss shape  -0.887907862663269  loss temporal  0.7494305968284607\n",
      " Eval mse=  0.0678599343324701  dtw=  0.20763101144458218  tdi=  1.141903919528269\n"
     ]
    }
   ],
   "source": [
    "# random.seed(0)\n",
    "\n",
    "# parameters\n",
    "batch_size = 100\n",
    "N_input = 90\n",
    "N_output = 62 \n",
    "sigma = 0.01\n",
    "gamma = 0.01\n",
    "\n",
    "# Load synthetic dataset\n",
    "# X_train_input,X_train_target,X_test_input,X_test_target,train_bkp,test_bkp = create_synthetic_dataset(N,N_input,N_output,sigma)\n",
    "# dataset_train = SyntheticDataset(X_train_input,X_train_target, train_bkp)\n",
    "# dataset_test  = SyntheticDataset(X_test_input,X_test_target, test_bkp)\n",
    "# trainloader = DataLoader(dataset_train, batch_size=batch_size,shuffle=True, num_workers=1)\n",
    "# testloader  = DataLoader(dataset_test, batch_size=batch_size,shuffle=False, num_workers=1)\n",
    "\n",
    "\n",
    "# Load ECG dataset\n",
    "filepath_train = '../Wafer_TRAIN.txt'\n",
    "filepath_test = '../Wafer_TEST.txt'\n",
    "x_train_ip, x_train_op, x_test_ip, x_test_op, train_bkp, test_bkp = load_wafer(filepath_train, filepath_test)\n",
    "# print (x_train_ip.shape, x_train_op.shape, x_test_ip.shape, x_test_op.shape)\n",
    "dataset_train = create_Dataset(x_train_ip, x_train_op, train_bkp)\n",
    "dataset_test  = create_Dataset(x_test_ip, x_test_op, test_bkp)\n",
    "trainloader = DataLoader(dataset_train, batch_size=batch_size,shuffle=True, num_workers=1)\n",
    "testloader  = DataLoader(dataset_test, batch_size=batch_size,shuffle=False, num_workers=1)\n",
    "\n",
    "def train_model(net,loss_type, learning_rate, epochs=1000, gamma = 0.01,\n",
    "                print_every=50,eval_every=50, verbose=1, Lambda=1, alpha=0.9):\n",
    "    \n",
    "    optimizer = torch.optim.Adam(net.parameters(),lr=learning_rate)\n",
    "    criterion = torch.nn.MSELoss()\n",
    "    \n",
    "    for epoch in range(epochs): \n",
    "        for i, data in enumerate(trainloader, 0):\n",
    "            inputs, target, _ = data\n",
    "            inputs = torch.tensor(inputs, dtype=torch.float32).to(device)\n",
    "            target = torch.tensor(target, dtype=torch.float32).to(device)\n",
    "            batch_size, N_output = target.shape[0:2]                     \n",
    "\n",
    "            # forward + backward + optimize\n",
    "            outputs = net(inputs)\n",
    "            loss_mse,loss_shape,loss_temporal = torch.tensor(0),torch.tensor(0),torch.tensor(0)\n",
    "            \n",
    "            if (loss_type=='mse'):\n",
    "                loss_mse = criterion(target,outputs)\n",
    "                loss = loss_mse                   \n",
    " \n",
    "            if (loss_type=='dilate'):    \n",
    "                loss, loss_shape, loss_temporal = dilate_loss(target,outputs,alpha, gamma, device)     \n",
    "            \n",
    "            if (loss_type=='dilate_shape'):    \n",
    "                loss, loss_shape, loss_temporal = dilate_loss(target,outputs,alpha, gamma, device)     \n",
    "                loss = loss_shape\n",
    "                \n",
    "            optimizer.zero_grad()\n",
    "            loss.backward()\n",
    "            optimizer.step()          \n",
    "        \n",
    "        if(verbose):\n",
    "            if (epoch % print_every == 0):\n",
    "                print('epoch ', epoch, ' loss ',loss.item(),' loss shape ',loss_shape.item(),' loss temporal ',loss_temporal.item())\n",
    "                eval_model(net,testloader, gamma,verbose=1)\n",
    "  \n",
    "\n",
    " \n",
    "def eval_model(net,loader, gamma,verbose=1):   \n",
    "    criterion = torch.nn.MSELoss()\n",
    "    losses_mse = []\n",
    "    losses_dtw = []\n",
    "    losses_tdi = []   \n",
    "\n",
    "    for i, data in enumerate(loader, 0):\n",
    "        loss_mse, loss_dtw, loss_tdi = torch.tensor(0),torch.tensor(0),torch.tensor(0)\n",
    "        # get the inputs\n",
    "        inputs, target, breakpoints = data\n",
    "        inputs = torch.tensor(inputs, dtype=torch.float32).to(device)\n",
    "        target = torch.tensor(target, dtype=torch.float32).to(device)\n",
    "        batch_size, N_output = target.shape[0:2]\n",
    "        outputs = net(inputs)\n",
    "         \n",
    "        # MSE    \n",
    "        loss_mse = criterion(target,outputs)    \n",
    "        loss_dtw, loss_tdi = 0,0\n",
    "        # DTW and TDI\n",
    "        for k in range(batch_size):         \n",
    "            target_k_cpu = target[k,:,0:1].view(-1).detach().cpu().numpy()\n",
    "            output_k_cpu = outputs[k,:,0:1].view(-1).detach().cpu().numpy()\n",
    "\n",
    "            loss_dtw += dtw(target_k_cpu,output_k_cpu)\n",
    "            path, sim = dtw_path(target_k_cpu, output_k_cpu)   \n",
    "                       \n",
    "            Dist = 0\n",
    "            for i,j in path:\n",
    "                    Dist += (i-j)*(i-j)\n",
    "            loss_tdi += Dist / (N_output*N_output)            \n",
    "                        \n",
    "        loss_dtw = loss_dtw /batch_size\n",
    "        loss_tdi = loss_tdi / batch_size\n",
    "\n",
    "        # print statistics\n",
    "        losses_mse.append( loss_mse.item() )\n",
    "        losses_dtw.append( loss_dtw )\n",
    "        losses_tdi.append( loss_tdi )\n",
    "\n",
    "    print( ' Eval mse= ', np.array(losses_mse).mean() ,' dtw= ',np.array(losses_dtw).mean() ,' tdi= ', np.array(losses_tdi).mean()) \n",
    "\n",
    "\n",
    "encoder = EncoderRNN(input_size=1, hidden_size=128, num_grulstm_layers=1, batch_size=batch_size).to(device)\n",
    "decoder = DecoderRNN(input_size=1, hidden_size=128, num_grulstm_layers=1,fc_units=16, output_size=1).to(device)\n",
    "net_gru_dilate = Net_GRU(encoder,decoder, N_output, device).to(device)\n",
    "train_model(net_gru_dilate,loss_type='dilate',learning_rate=0.001, epochs=1000, gamma=gamma, print_every=50, eval_every=50,verbose=1)\n",
    "\n",
    "# encoder = EncoderRNN(input_size=1, hidden_size=128, num_grulstm_layers=1, batch_size=batch_size).to(device)\n",
    "# decoder = DecoderRNN(input_size=1, hidden_size=128, num_grulstm_layers=1,fc_units=16, output_size=1).to(device)\n",
    "# net_gru_mse = Net_GRU(encoder,decoder, N_output, device).to(device)\n",
    "# train_model(net_gru_mse,loss_type='mse',learning_rate=0.001, epochs=500, gamma=gamma, print_every=50, eval_every=50,verbose=1)\n",
    "\n",
    "#encoder = EncoderRNN(input_size=1, hidden_size=128, num_grulstm_layers=1, batch_size=batch_size).to(device)\n",
    "#decoder = DecoderRNN(input_size=1, hidden_size=128, num_grulstm_layers=1,fc_units=16, output_size=1).to(device)\n",
    "#net_gru_dilate = Net_GRU(encoder,decoder, N_output, device).to(device)\n",
    "#train_model(net_gru_dilate,loss_type='dilate_shape',learning_rate=0.001, epochs=500, gamma=gamma, print_every=50, eval_every=50,verbose=1)\n",
    "\n"
   ]
  },
  {
   "cell_type": "code",
   "execution_count": null,
   "metadata": {},
   "outputs": [],
   "source": []
  },
  {
   "cell_type": "code",
   "execution_count": null,
   "metadata": {},
   "outputs": [],
   "source": []
  },
  {
   "cell_type": "code",
   "execution_count": null,
   "metadata": {},
   "outputs": [],
   "source": []
  },
  {
   "cell_type": "code",
   "execution_count": null,
   "metadata": {},
   "outputs": [],
   "source": []
  },
  {
   "cell_type": "code",
   "execution_count": null,
   "metadata": {},
   "outputs": [],
   "source": []
  },
  {
   "cell_type": "code",
   "execution_count": null,
   "metadata": {},
   "outputs": [],
   "source": []
  },
  {
   "cell_type": "code",
   "execution_count": null,
   "metadata": {},
   "outputs": [],
   "source": []
  },
  {
   "cell_type": "code",
   "execution_count": null,
   "metadata": {},
   "outputs": [],
   "source": []
  },
  {
   "cell_type": "code",
   "execution_count": null,
   "metadata": {},
   "outputs": [],
   "source": [
    "\n"
   ]
  }
 ],
 "metadata": {
  "kernelspec": {
   "display_name": "Python [conda env:myenv] *",
   "language": "python",
   "name": "conda-env-myenv-py"
  },
  "language_info": {
   "codemirror_mode": {
    "name": "ipython",
    "version": 3
   },
   "file_extension": ".py",
   "mimetype": "text/x-python",
   "name": "python",
   "nbconvert_exporter": "python",
   "pygments_lexer": "ipython3",
   "version": "3.7.5"
  }
 },
 "nbformat": 4,
 "nbformat_minor": 2
}
