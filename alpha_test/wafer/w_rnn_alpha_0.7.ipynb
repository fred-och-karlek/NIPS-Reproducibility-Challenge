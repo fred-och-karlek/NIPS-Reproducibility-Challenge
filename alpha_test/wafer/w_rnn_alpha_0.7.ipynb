{
 "cells": [
  {
   "cell_type": "code",
   "execution_count": 1,
   "metadata": {},
   "outputs": [],
   "source": [
    "#alpha = 0.7, gamma = 0.01"
   ]
  },
  {
   "cell_type": "code",
   "execution_count": 2,
   "metadata": {},
   "outputs": [],
   "source": [
    "import numpy as np\n",
    "import torch\n",
    "from data.synthetic_dataset import * \n",
    "#from data.synthetic_dataset import create_synthetic_dataset, SyntheticDataset\n",
    "from models.seq2seq import EncoderRNN, DecoderRNN, Net_GRU\n",
    "from loss.dilate_loss import dilate_loss\n",
    "from torch.utils.data import DataLoader\n",
    "import random\n",
    "from tslearn.metrics import dtw, dtw_path\n",
    "import matplotlib.pyplot as plt\n",
    "import warnings\n",
    "import warnings; warnings.simplefilter('ignore')\n"
   ]
  },
  {
   "cell_type": "code",
   "execution_count": 3,
   "metadata": {},
   "outputs": [],
   "source": [
    "import os\n",
    "os.environ[\"CUDA_VISIBLE_DEVICES\"] = \"0\""
   ]
  },
  {
   "cell_type": "code",
   "execution_count": 4,
   "metadata": {},
   "outputs": [
    {
     "data": {
      "text/plain": [
       "device(type='cuda', index=0)"
      ]
     },
     "execution_count": 4,
     "metadata": {},
     "output_type": "execute_result"
    }
   ],
   "source": [
    "device = torch.device(\"cuda:0\" if torch.cuda.is_available() else \"cpu\")\n",
    "device"
   ]
  },
  {
   "cell_type": "code",
   "execution_count": 5,
   "metadata": {},
   "outputs": [
    {
     "name": "stdout",
     "output_type": "stream",
     "text": [
      "epoch  0  loss  15.345741271972656  loss shape  21.42542266845703  loss temporal  1.1598176956176758\n",
      " Eval mse=  0.3372774382432302  dtw=  4.505458004800294  tdi=  0.05679396462018731\n",
      "epoch  50  loss  -0.28499943017959595  loss shape  -0.7037492394447327  loss temporal  0.692083477973938\n",
      " Eval mse=  0.04947728222856919  dtw=  0.43698603612805537  tdi=  1.522210631286854\n",
      "epoch  100  loss  -0.2545466423034668  loss shape  -0.704667329788208  loss temporal  0.7957348823547363\n",
      " Eval mse=  0.058882663026452065  dtw=  0.3272509549207439  tdi=  1.414112729795352\n",
      "epoch  150  loss  -0.28007978200912476  loss shape  -0.7644128203392029  loss temporal  0.8500305414199829\n",
      " Eval mse=  0.06606160141527653  dtw=  0.37014381054683376  tdi=  1.5744415539368712\n",
      "epoch  200  loss  -0.4568818509578705  loss shape  -0.8511754274368286  loss temporal  0.4631364941596985\n",
      " Eval mse=  0.03585805793603261  dtw=  0.2756931367608588  tdi=  0.9503712278876171\n",
      "epoch  250  loss  -0.39245253801345825  loss shape  -0.8180676698684692  loss temporal  0.6006492376327515\n",
      " Eval mse=  0.059891558190186815  dtw=  0.3236885770447089  tdi=  1.7789304977454037\n",
      "epoch  300  loss  -0.35596054792404175  loss shape  -0.772903323173523  loss temporal  0.6169058084487915\n",
      " Eval mse=  0.047080687371393044  dtw=  0.2751035683714839  tdi=  1.151808749566424\n",
      "epoch  350  loss  -0.4306056797504425  loss shape  -0.8376340270042419  loss temporal  0.5191271305084229\n",
      " Eval mse=  0.05235600359737873  dtw=  0.26406068807239064  tdi=  1.2829337495664237\n",
      "epoch  400  loss  -0.48110851645469666  loss shape  -0.8760693669319153  loss temporal  0.44046667218208313\n",
      " Eval mse=  0.04530562926083803  dtw=  0.29701567350589625  tdi=  1.546888310787374\n",
      "epoch  450  loss  -0.4397166967391968  loss shape  -0.8323896527290344  loss temporal  0.476520299911499\n",
      " Eval mse=  0.04734864595035712  dtw=  0.23266853575756877  tdi=  1.0797311394380853\n",
      "epoch  500  loss  -0.5233089327812195  loss shape  -0.899848461151123  loss temporal  0.3552831709384918\n",
      " Eval mse=  0.04002652565638224  dtw=  0.25698350161266126  tdi=  0.8242482656954562\n",
      "epoch  550  loss  -0.5034124255180359  loss shape  -0.8449176549911499  loss temporal  0.29343298077583313\n",
      " Eval mse=  0.032728161724905176  dtw=  0.23185351400661566  tdi=  0.8379457596253902\n",
      "epoch  600  loss  -0.5459029674530029  loss shape  -0.8999632596969604  loss temporal  0.2802375257015228\n",
      " Eval mse=  0.02536787328620752  dtw=  0.21770264898293454  tdi=  0.8812092004856051\n",
      "epoch  650  loss  -0.44214513897895813  loss shape  -0.8575747013092041  loss temporal  0.5271904468536377\n",
      " Eval mse=  0.04736800715327263  dtw=  0.22980174535598866  tdi=  0.8589366545265347\n",
      "epoch  700  loss  -0.4981330633163452  loss shape  -0.8393412828445435  loss temporal  0.29801949858665466\n",
      " Eval mse=  0.03742966822658976  dtw=  0.20386277942212674  tdi=  0.7161086108220603\n",
      "epoch  750  loss  -0.5263752341270447  loss shape  -0.8745239973068237  loss temporal  0.28597182035446167\n",
      " Eval mse=  0.030737565085291862  dtw=  0.21705537648876924  tdi=  0.8291331512313562\n",
      "epoch  800  loss  -0.5160523056983948  loss shape  -0.877984344959259  loss temporal  0.32845571637153625\n",
      " Eval mse=  0.0422302749628822  dtw=  0.2151890476585999  tdi=  0.8139005809920222\n",
      "epoch  850  loss  -0.5212739109992981  loss shape  -0.8984944224357605  loss temporal  0.3589072525501251\n",
      " Eval mse=  0.035426496124515934  dtw=  0.20382532749918436  tdi=  0.6727456642386402\n",
      "epoch  900  loss  -0.453806608915329  loss shape  -0.8644434809684753  loss temporal  0.5043459534645081\n",
      " Eval mse=  0.041739696512619655  dtw=  0.1990352629857701  tdi=  0.9504754162330904\n",
      "epoch  950  loss  -0.5084980726242065  loss shape  -0.8809714913368225  loss temporal  0.3606065511703491\n",
      " Eval mse=  0.03633759571239352  dtw=  0.18766636210787832  tdi=  0.6368338536246967\n"
     ]
    }
   ],
   "source": [
    "# random.seed(0)\n",
    "\n",
    "# parameters\n",
    "batch_size = 100\n",
    "N_input = 90\n",
    "N_output = 62 \n",
    "sigma = 0.01\n",
    "gamma = 0.01\n",
    "\n",
    "# Load synthetic dataset\n",
    "# X_train_input,X_train_target,X_test_input,X_test_target,train_bkp,test_bkp = create_synthetic_dataset(N,N_input,N_output,sigma)\n",
    "# dataset_train = SyntheticDataset(X_train_input,X_train_target, train_bkp)\n",
    "# dataset_test  = SyntheticDataset(X_test_input,X_test_target, test_bkp)\n",
    "# trainloader = DataLoader(dataset_train, batch_size=batch_size,shuffle=True, num_workers=1)\n",
    "# testloader  = DataLoader(dataset_test, batch_size=batch_size,shuffle=False, num_workers=1)\n",
    "\n",
    "\n",
    "# Load ECG dataset\n",
    "filepath_train = '../Wafer_TRAIN.txt'\n",
    "filepath_test = '../Wafer_TEST.txt'\n",
    "x_train_ip, x_train_op, x_test_ip, x_test_op, train_bkp, test_bkp = load_wafer(filepath_train, filepath_test)\n",
    "# print (x_train_ip.shape, x_train_op.shape, x_test_ip.shape, x_test_op.shape)\n",
    "dataset_train = create_Dataset(x_train_ip, x_train_op, train_bkp)\n",
    "dataset_test  = create_Dataset(x_test_ip, x_test_op, test_bkp)\n",
    "trainloader = DataLoader(dataset_train, batch_size=batch_size,shuffle=True, num_workers=1)\n",
    "testloader  = DataLoader(dataset_test, batch_size=batch_size,shuffle=False, num_workers=1)\n",
    "\n",
    "def train_model(net,loss_type, learning_rate, epochs=1000, gamma = 0.01,\n",
    "                print_every=50,eval_every=50, verbose=1, Lambda=1, alpha=0.7):\n",
    "    \n",
    "    optimizer = torch.optim.Adam(net.parameters(),lr=learning_rate)\n",
    "    criterion = torch.nn.MSELoss()\n",
    "    \n",
    "    for epoch in range(epochs): \n",
    "        for i, data in enumerate(trainloader, 0):\n",
    "            inputs, target, _ = data\n",
    "            inputs = torch.tensor(inputs, dtype=torch.float32).to(device)\n",
    "            target = torch.tensor(target, dtype=torch.float32).to(device)\n",
    "            batch_size, N_output = target.shape[0:2]                     \n",
    "\n",
    "            # forward + backward + optimize\n",
    "            outputs = net(inputs)\n",
    "            loss_mse,loss_shape,loss_temporal = torch.tensor(0),torch.tensor(0),torch.tensor(0)\n",
    "            \n",
    "            if (loss_type=='mse'):\n",
    "                loss_mse = criterion(target,outputs)\n",
    "                loss = loss_mse                   \n",
    " \n",
    "            if (loss_type=='dilate'):    \n",
    "                loss, loss_shape, loss_temporal = dilate_loss(target,outputs,alpha, gamma, device)     \n",
    "            \n",
    "            if (loss_type=='dilate_shape'):    \n",
    "                loss, loss_shape, loss_temporal = dilate_loss(target,outputs,alpha, gamma, device)     \n",
    "                loss = loss_shape\n",
    "                \n",
    "            optimizer.zero_grad()\n",
    "            loss.backward()\n",
    "            optimizer.step()          \n",
    "        \n",
    "        if(verbose):\n",
    "            if (epoch % print_every == 0):\n",
    "                print('epoch ', epoch, ' loss ',loss.item(),' loss shape ',loss_shape.item(),' loss temporal ',loss_temporal.item())\n",
    "                eval_model(net,testloader, gamma,verbose=1)\n",
    "  \n",
    "\n",
    " \n",
    "def eval_model(net,loader, gamma,verbose=1):   \n",
    "    criterion = torch.nn.MSELoss()\n",
    "    losses_mse = []\n",
    "    losses_dtw = []\n",
    "    losses_tdi = []   \n",
    "\n",
    "    for i, data in enumerate(loader, 0):\n",
    "        loss_mse, loss_dtw, loss_tdi = torch.tensor(0),torch.tensor(0),torch.tensor(0)\n",
    "        # get the inputs\n",
    "        inputs, target, breakpoints = data\n",
    "        inputs = torch.tensor(inputs, dtype=torch.float32).to(device)\n",
    "        target = torch.tensor(target, dtype=torch.float32).to(device)\n",
    "        batch_size, N_output = target.shape[0:2]\n",
    "        outputs = net(inputs)\n",
    "         \n",
    "        # MSE    \n",
    "        loss_mse = criterion(target,outputs)    \n",
    "        loss_dtw, loss_tdi = 0,0\n",
    "        # DTW and TDI\n",
    "        for k in range(batch_size):         \n",
    "            target_k_cpu = target[k,:,0:1].view(-1).detach().cpu().numpy()\n",
    "            output_k_cpu = outputs[k,:,0:1].view(-1).detach().cpu().numpy()\n",
    "\n",
    "            loss_dtw += dtw(target_k_cpu,output_k_cpu)\n",
    "            path, sim = dtw_path(target_k_cpu, output_k_cpu)   \n",
    "                       \n",
    "            Dist = 0\n",
    "            for i,j in path:\n",
    "                    Dist += (i-j)*(i-j)\n",
    "            loss_tdi += Dist / (N_output*N_output)            \n",
    "                        \n",
    "        loss_dtw = loss_dtw /batch_size\n",
    "        loss_tdi = loss_tdi / batch_size\n",
    "\n",
    "        # print statistics\n",
    "        losses_mse.append( loss_mse.item() )\n",
    "        losses_dtw.append( loss_dtw )\n",
    "        losses_tdi.append( loss_tdi )\n",
    "\n",
    "    print( ' Eval mse= ', np.array(losses_mse).mean() ,' dtw= ',np.array(losses_dtw).mean() ,' tdi= ', np.array(losses_tdi).mean()) \n",
    "\n",
    "\n",
    "encoder = EncoderRNN(input_size=1, hidden_size=128, num_grulstm_layers=1, batch_size=batch_size).to(device)\n",
    "decoder = DecoderRNN(input_size=1, hidden_size=128, num_grulstm_layers=1,fc_units=16, output_size=1).to(device)\n",
    "net_gru_dilate = Net_GRU(encoder,decoder, N_output, device).to(device)\n",
    "train_model(net_gru_dilate,loss_type='dilate',learning_rate=0.001, epochs=1000, gamma=gamma, print_every=50, eval_every=50,verbose=1)\n",
    "\n",
    "# encoder = EncoderRNN(input_size=1, hidden_size=128, num_grulstm_layers=1, batch_size=batch_size).to(device)\n",
    "# decoder = DecoderRNN(input_size=1, hidden_size=128, num_grulstm_layers=1,fc_units=16, output_size=1).to(device)\n",
    "# net_gru_mse = Net_GRU(encoder,decoder, N_output, device).to(device)\n",
    "# train_model(net_gru_mse,loss_type='mse',learning_rate=0.001, epochs=500, gamma=gamma, print_every=50, eval_every=50,verbose=1)\n",
    "\n",
    "#encoder = EncoderRNN(input_size=1, hidden_size=128, num_grulstm_layers=1, batch_size=batch_size).to(device)\n",
    "#decoder = DecoderRNN(input_size=1, hidden_size=128, num_grulstm_layers=1,fc_units=16, output_size=1).to(device)\n",
    "#net_gru_dilate = Net_GRU(encoder,decoder, N_output, device).to(device)\n",
    "#train_model(net_gru_dilate,loss_type='dilate_shape',learning_rate=0.001, epochs=500, gamma=gamma, print_every=50, eval_every=50,verbose=1)\n",
    "\n"
   ]
  },
  {
   "cell_type": "code",
   "execution_count": null,
   "metadata": {},
   "outputs": [],
   "source": []
  },
  {
   "cell_type": "code",
   "execution_count": null,
   "metadata": {},
   "outputs": [],
   "source": []
  },
  {
   "cell_type": "code",
   "execution_count": null,
   "metadata": {},
   "outputs": [],
   "source": []
  },
  {
   "cell_type": "code",
   "execution_count": null,
   "metadata": {},
   "outputs": [],
   "source": []
  },
  {
   "cell_type": "code",
   "execution_count": null,
   "metadata": {},
   "outputs": [],
   "source": []
  },
  {
   "cell_type": "code",
   "execution_count": null,
   "metadata": {},
   "outputs": [],
   "source": []
  },
  {
   "cell_type": "code",
   "execution_count": null,
   "metadata": {},
   "outputs": [],
   "source": []
  },
  {
   "cell_type": "code",
   "execution_count": null,
   "metadata": {},
   "outputs": [],
   "source": []
  },
  {
   "cell_type": "code",
   "execution_count": null,
   "metadata": {},
   "outputs": [],
   "source": [
    "\n"
   ]
  }
 ],
 "metadata": {
  "kernelspec": {
   "display_name": "Python [conda env:myenv] *",
   "language": "python",
   "name": "conda-env-myenv-py"
  },
  "language_info": {
   "codemirror_mode": {
    "name": "ipython",
    "version": 3
   },
   "file_extension": ".py",
   "mimetype": "text/x-python",
   "name": "python",
   "nbconvert_exporter": "python",
   "pygments_lexer": "ipython3",
   "version": "3.7.5"
  }
 },
 "nbformat": 4,
 "nbformat_minor": 2
}
