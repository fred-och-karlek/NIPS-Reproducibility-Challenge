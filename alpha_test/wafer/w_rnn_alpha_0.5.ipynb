{
 "cells": [
  {
   "cell_type": "code",
   "execution_count": 1,
   "metadata": {},
   "outputs": [],
   "source": [
    "#alpha = 0.5, gamma = 0.01"
   ]
  },
  {
   "cell_type": "code",
   "execution_count": 2,
   "metadata": {},
   "outputs": [],
   "source": [
    "import numpy as np\n",
    "import torch\n",
    "from data.synthetic_dataset import * \n",
    "#from data.synthetic_dataset import create_synthetic_dataset, SyntheticDataset\n",
    "from models.seq2seq import EncoderRNN, DecoderRNN, Net_GRU\n",
    "from loss.dilate_loss import dilate_loss\n",
    "from torch.utils.data import DataLoader\n",
    "import random\n",
    "from tslearn.metrics import dtw, dtw_path\n",
    "import matplotlib.pyplot as plt\n",
    "import warnings\n",
    "import warnings; warnings.simplefilter('ignore')\n"
   ]
  },
  {
   "cell_type": "code",
   "execution_count": 3,
   "metadata": {},
   "outputs": [],
   "source": [
    "import os\n",
    "os.environ[\"CUDA_VISIBLE_DEVICES\"] = \"0\""
   ]
  },
  {
   "cell_type": "code",
   "execution_count": 4,
   "metadata": {},
   "outputs": [
    {
     "data": {
      "text/plain": [
       "device(type='cuda', index=0)"
      ]
     },
     "execution_count": 4,
     "metadata": {},
     "output_type": "execute_result"
    }
   ],
   "source": [
    "device = torch.device(\"cuda:0\" if torch.cuda.is_available() else \"cpu\")\n",
    "device"
   ]
  },
  {
   "cell_type": "code",
   "execution_count": 5,
   "metadata": {},
   "outputs": [
    {
     "name": "stdout",
     "output_type": "stream",
     "text": [
      "epoch  0  loss  13.779325485229492  loss shape  27.204923629760742  loss temporal  0.3537268340587616\n",
      " Eval mse=  0.4087473173936208  dtw=  4.971516286198507  tdi=  0.0015048994103364552\n",
      "epoch  50  loss  0.47447842359542847  loss shape  -0.07523595541715622  loss temporal  1.0241928100585938\n",
      " Eval mse=  0.05450732366492351  dtw=  0.685774303296806  tdi=  1.9598696670135276\n",
      "epoch  100  loss  0.1687684804201126  loss shape  -0.41848453879356384  loss temporal  0.7560214996337891\n",
      " Eval mse=  0.04888129215687513  dtw=  0.5580466201633129  tdi=  1.475991415192508\n",
      "epoch  150  loss  0.01834312081336975  loss shape  -0.7182230949401855  loss temporal  0.754909336566925\n",
      " Eval mse=  0.07636910968770584  dtw=  0.3984222459706922  tdi=  1.244609824835241\n",
      "epoch  200  loss  0.033357053995132446  loss shape  -0.7348881959915161  loss temporal  0.801602303981781\n",
      " Eval mse=  0.04799935563157002  dtw=  0.357374681532044  tdi=  2.1558167273673257\n",
      "epoch  250  loss  -0.11199399828910828  loss shape  -0.76399827003479  loss temporal  0.5400102734565735\n",
      " Eval mse=  0.03952605864033103  dtw=  0.36711484638987696  tdi=  1.3119402532084634\n",
      "epoch  300  loss  -0.2451336681842804  loss shape  -0.8367669582366943  loss temporal  0.34649962186813354\n",
      " Eval mse=  0.03268821792056163  dtw=  0.29000734067097755  tdi=  0.7417627904960111\n",
      "epoch  350  loss  -0.22688865661621094  loss shape  -0.8150895237922668  loss temporal  0.36131221055984497\n",
      " Eval mse=  0.024383072555065156  dtw=  0.2732119564848883  tdi=  0.7046228754769339\n",
      "epoch  400  loss  -0.2453974485397339  loss shape  -0.8435516357421875  loss temporal  0.3527567386627197\n",
      " Eval mse=  0.029027456572900217  dtw=  0.27359822294454406  tdi=  0.7142824314949705\n",
      "epoch  450  loss  -0.2862889766693115  loss shape  -0.8687241673469543  loss temporal  0.2961462438106537\n",
      " Eval mse=  0.03414371826996406  dtw=  0.25077706349069  tdi=  0.8566821019771071\n",
      "epoch  500  loss  -0.2811431884765625  loss shape  -0.8807305097579956  loss temporal  0.3184441030025482\n",
      " Eval mse=  0.023945643628636996  dtw=  0.2386602555151402  tdi=  0.7174041363163374\n",
      "epoch  550  loss  2.10294771194458  loss shape  0.664702832698822  loss temporal  3.5411925315856934\n",
      " Eval mse=  0.14697887773315113  dtw=  0.971295079668644  tdi=  4.2361145941727365\n",
      "epoch  600  loss  -0.22855837643146515  loss shape  -0.7908076047897339  loss temporal  0.3336908519268036\n",
      " Eval mse=  0.02703526612992088  dtw=  0.2779112274905009  tdi=  0.9602055150884495\n",
      "epoch  650  loss  -0.27716267108917236  loss shape  -0.8730455636978149  loss temporal  0.3187201917171478\n",
      " Eval mse=  0.023947552498430013  dtw=  0.24455112526615524  tdi=  0.714576829691294\n",
      "epoch  700  loss  -0.21430252492427826  loss shape  -0.8367483615875244  loss temporal  0.4081433117389679\n",
      " Eval mse=  0.02985053798183799  dtw=  0.26978794143743495  tdi=  0.8909233437391606\n",
      "epoch  750  loss  -0.26515671610832214  loss shape  -0.8605635762214661  loss temporal  0.3302501440048218\n",
      " Eval mse=  0.032812046663214765  dtw=  0.2476559942506834  tdi=  1.0516070065903573\n",
      "epoch  800  loss  -0.29521608352661133  loss shape  -0.8862747550010681  loss temporal  0.29584255814552307\n",
      " Eval mse=  0.029277257310847443  dtw=  0.24059215428127206  tdi=  0.7391257370794312\n",
      "epoch  850  loss  -0.31952202320098877  loss shape  -0.86851966381073  loss temporal  0.22947561740875244\n",
      " Eval mse=  0.020348417417456705  dtw=  0.2251582483128187  tdi=  0.6319486212278876\n",
      "epoch  900  loss  -0.3021237552165985  loss shape  -0.8448705077171326  loss temporal  0.24062298238277435\n",
      " Eval mse=  0.02391223404556513  dtw=  0.23557983289481513  tdi=  0.6146928113076658\n",
      "epoch  950  loss  -0.3450753092765808  loss shape  -0.9121037721633911  loss temporal  0.2219531238079071\n",
      " Eval mse=  0.02301225168630481  dtw=  0.20821729104046746  tdi=  0.6104384321886924\n"
     ]
    }
   ],
   "source": [
    "# random.seed(0)\n",
    "\n",
    "# parameters\n",
    "batch_size = 100\n",
    "N_input = 90\n",
    "N_output = 62 \n",
    "sigma = 0.01\n",
    "gamma = 0.01\n",
    "\n",
    "# Load synthetic dataset\n",
    "# X_train_input,X_train_target,X_test_input,X_test_target,train_bkp,test_bkp = create_synthetic_dataset(N,N_input,N_output,sigma)\n",
    "# dataset_train = SyntheticDataset(X_train_input,X_train_target, train_bkp)\n",
    "# dataset_test  = SyntheticDataset(X_test_input,X_test_target, test_bkp)\n",
    "# trainloader = DataLoader(dataset_train, batch_size=batch_size,shuffle=True, num_workers=1)\n",
    "# testloader  = DataLoader(dataset_test, batch_size=batch_size,shuffle=False, num_workers=1)\n",
    "\n",
    "\n",
    "# Load ECG dataset\n",
    "filepath_train = '../Wafer_TRAIN.txt'\n",
    "filepath_test = '../Wafer_TEST.txt'\n",
    "x_train_ip, x_train_op, x_test_ip, x_test_op, train_bkp, test_bkp = load_wafer(filepath_train, filepath_test)\n",
    "# print (x_train_ip.shape, x_train_op.shape, x_test_ip.shape, x_test_op.shape)\n",
    "dataset_train = create_Dataset(x_train_ip, x_train_op, train_bkp)\n",
    "dataset_test  = create_Dataset(x_test_ip, x_test_op, test_bkp)\n",
    "trainloader = DataLoader(dataset_train, batch_size=batch_size,shuffle=True, num_workers=1)\n",
    "testloader  = DataLoader(dataset_test, batch_size=batch_size,shuffle=False, num_workers=1)\n",
    "\n",
    "def train_model(net,loss_type, learning_rate, epochs=1000, gamma = 0.01,\n",
    "                print_every=50,eval_every=50, verbose=1, Lambda=1, alpha=0.5):\n",
    "    \n",
    "    optimizer = torch.optim.Adam(net.parameters(),lr=learning_rate)\n",
    "    criterion = torch.nn.MSELoss()\n",
    "    \n",
    "    for epoch in range(epochs): \n",
    "        for i, data in enumerate(trainloader, 0):\n",
    "            inputs, target, _ = data\n",
    "            inputs = torch.tensor(inputs, dtype=torch.float32).to(device)\n",
    "            target = torch.tensor(target, dtype=torch.float32).to(device)\n",
    "            batch_size, N_output = target.shape[0:2]                     \n",
    "\n",
    "            # forward + backward + optimize\n",
    "            outputs = net(inputs)\n",
    "            loss_mse,loss_shape,loss_temporal = torch.tensor(0),torch.tensor(0),torch.tensor(0)\n",
    "            \n",
    "            if (loss_type=='mse'):\n",
    "                loss_mse = criterion(target,outputs)\n",
    "                loss = loss_mse                   \n",
    " \n",
    "            if (loss_type=='dilate'):    \n",
    "                loss, loss_shape, loss_temporal = dilate_loss(target,outputs,alpha, gamma, device)     \n",
    "            \n",
    "            if (loss_type=='dilate_shape'):    \n",
    "                loss, loss_shape, loss_temporal = dilate_loss(target,outputs,alpha, gamma, device)     \n",
    "                loss = loss_shape\n",
    "                \n",
    "            optimizer.zero_grad()\n",
    "            loss.backward()\n",
    "            optimizer.step()          \n",
    "        \n",
    "        if(verbose):\n",
    "            if (epoch % print_every == 0):\n",
    "                print('epoch ', epoch, ' loss ',loss.item(),' loss shape ',loss_shape.item(),' loss temporal ',loss_temporal.item())\n",
    "                eval_model(net,testloader, gamma,verbose=1)\n",
    "  \n",
    "\n",
    " \n",
    "def eval_model(net,loader, gamma,verbose=1):   \n",
    "    criterion = torch.nn.MSELoss()\n",
    "    losses_mse = []\n",
    "    losses_dtw = []\n",
    "    losses_tdi = []   \n",
    "\n",
    "    for i, data in enumerate(loader, 0):\n",
    "        loss_mse, loss_dtw, loss_tdi = torch.tensor(0),torch.tensor(0),torch.tensor(0)\n",
    "        # get the inputs\n",
    "        inputs, target, breakpoints = data\n",
    "        inputs = torch.tensor(inputs, dtype=torch.float32).to(device)\n",
    "        target = torch.tensor(target, dtype=torch.float32).to(device)\n",
    "        batch_size, N_output = target.shape[0:2]\n",
    "        outputs = net(inputs)\n",
    "         \n",
    "        # MSE    \n",
    "        loss_mse = criterion(target,outputs)    \n",
    "        loss_dtw, loss_tdi = 0,0\n",
    "        # DTW and TDI\n",
    "        for k in range(batch_size):         \n",
    "            target_k_cpu = target[k,:,0:1].view(-1).detach().cpu().numpy()\n",
    "            output_k_cpu = outputs[k,:,0:1].view(-1).detach().cpu().numpy()\n",
    "\n",
    "            loss_dtw += dtw(target_k_cpu,output_k_cpu)\n",
    "            path, sim = dtw_path(target_k_cpu, output_k_cpu)   \n",
    "                       \n",
    "            Dist = 0\n",
    "            for i,j in path:\n",
    "                    Dist += (i-j)*(i-j)\n",
    "            loss_tdi += Dist / (N_output*N_output)            \n",
    "                        \n",
    "        loss_dtw = loss_dtw /batch_size\n",
    "        loss_tdi = loss_tdi / batch_size\n",
    "\n",
    "        # print statistics\n",
    "        losses_mse.append( loss_mse.item() )\n",
    "        losses_dtw.append( loss_dtw )\n",
    "        losses_tdi.append( loss_tdi )\n",
    "\n",
    "    print( ' Eval mse= ', np.array(losses_mse).mean() ,' dtw= ',np.array(losses_dtw).mean() ,' tdi= ', np.array(losses_tdi).mean()) \n",
    "\n",
    "\n",
    "encoder = EncoderRNN(input_size=1, hidden_size=128, num_grulstm_layers=1, batch_size=batch_size).to(device)\n",
    "decoder = DecoderRNN(input_size=1, hidden_size=128, num_grulstm_layers=1,fc_units=16, output_size=1).to(device)\n",
    "net_gru_dilate = Net_GRU(encoder,decoder, N_output, device).to(device)\n",
    "train_model(net_gru_dilate,loss_type='dilate',learning_rate=0.001, epochs=1000, gamma=gamma, print_every=50, eval_every=50,verbose=1)\n",
    "\n",
    "# encoder = EncoderRNN(input_size=1, hidden_size=128, num_grulstm_layers=1, batch_size=batch_size).to(device)\n",
    "# decoder = DecoderRNN(input_size=1, hidden_size=128, num_grulstm_layers=1,fc_units=16, output_size=1).to(device)\n",
    "# net_gru_mse = Net_GRU(encoder,decoder, N_output, device).to(device)\n",
    "# train_model(net_gru_mse,loss_type='mse',learning_rate=0.001, epochs=500, gamma=gamma, print_every=50, eval_every=50,verbose=1)\n",
    "\n",
    "#encoder = EncoderRNN(input_size=1, hidden_size=128, num_grulstm_layers=1, batch_size=batch_size).to(device)\n",
    "#decoder = DecoderRNN(input_size=1, hidden_size=128, num_grulstm_layers=1,fc_units=16, output_size=1).to(device)\n",
    "#net_gru_dilate = Net_GRU(encoder,decoder, N_output, device).to(device)\n",
    "#train_model(net_gru_dilate,loss_type='dilate_shape',learning_rate=0.001, epochs=500, gamma=gamma, print_every=50, eval_every=50,verbose=1)\n",
    "\n"
   ]
  },
  {
   "cell_type": "code",
   "execution_count": null,
   "metadata": {},
   "outputs": [],
   "source": []
  },
  {
   "cell_type": "code",
   "execution_count": null,
   "metadata": {},
   "outputs": [],
   "source": []
  },
  {
   "cell_type": "code",
   "execution_count": null,
   "metadata": {},
   "outputs": [],
   "source": []
  },
  {
   "cell_type": "code",
   "execution_count": null,
   "metadata": {},
   "outputs": [],
   "source": []
  },
  {
   "cell_type": "code",
   "execution_count": null,
   "metadata": {},
   "outputs": [],
   "source": []
  },
  {
   "cell_type": "code",
   "execution_count": null,
   "metadata": {},
   "outputs": [],
   "source": []
  },
  {
   "cell_type": "code",
   "execution_count": null,
   "metadata": {},
   "outputs": [],
   "source": []
  },
  {
   "cell_type": "code",
   "execution_count": null,
   "metadata": {},
   "outputs": [],
   "source": []
  },
  {
   "cell_type": "code",
   "execution_count": null,
   "metadata": {},
   "outputs": [],
   "source": [
    "\n"
   ]
  }
 ],
 "metadata": {
  "kernelspec": {
   "display_name": "Python [conda env:myenv] *",
   "language": "python",
   "name": "conda-env-myenv-py"
  },
  "language_info": {
   "codemirror_mode": {
    "name": "ipython",
    "version": 3
   },
   "file_extension": ".py",
   "mimetype": "text/x-python",
   "name": "python",
   "nbconvert_exporter": "python",
   "pygments_lexer": "ipython3",
   "version": "3.7.5"
  }
 },
 "nbformat": 4,
 "nbformat_minor": 2
}
