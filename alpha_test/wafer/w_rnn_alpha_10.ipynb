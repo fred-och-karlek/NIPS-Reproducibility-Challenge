{
 "cells": [
  {
   "cell_type": "code",
   "execution_count": 1,
   "metadata": {},
   "outputs": [],
   "source": [
    "#alpha = 1, gamma = 0.01"
   ]
  },
  {
   "cell_type": "code",
   "execution_count": 2,
   "metadata": {},
   "outputs": [],
   "source": [
    "import numpy as np\n",
    "import torch\n",
    "from data.synthetic_dataset import * \n",
    "#from data.synthetic_dataset import create_synthetic_dataset, SyntheticDataset\n",
    "from models.seq2seq import EncoderRNN, DecoderRNN, Net_GRU\n",
    "from loss.dilate_loss import dilate_loss\n",
    "from torch.utils.data import DataLoader\n",
    "import random\n",
    "from tslearn.metrics import dtw, dtw_path\n",
    "import matplotlib.pyplot as plt\n",
    "import warnings\n",
    "import warnings; warnings.simplefilter('ignore')\n"
   ]
  },
  {
   "cell_type": "code",
   "execution_count": 3,
   "metadata": {},
   "outputs": [],
   "source": [
    "import os\n",
    "os.environ[\"CUDA_VISIBLE_DEVICES\"] = \"0\""
   ]
  },
  {
   "cell_type": "code",
   "execution_count": 4,
   "metadata": {},
   "outputs": [
    {
     "data": {
      "text/plain": [
       "device(type='cuda', index=0)"
      ]
     },
     "execution_count": 4,
     "metadata": {},
     "output_type": "execute_result"
    }
   ],
   "source": [
    "device = torch.device(\"cuda:0\" if torch.cuda.is_available() else \"cpu\")\n",
    "device"
   ]
  },
  {
   "cell_type": "code",
   "execution_count": 5,
   "metadata": {},
   "outputs": [
    {
     "name": "stdout",
     "output_type": "stream",
     "text": [
      "epoch  0  loss  16.523967742919922  loss shape  16.523967742919922  loss temporal  2.2671501636505127\n",
      " Eval mse=  0.2522330619394779  dtw=  3.879578052810492  tdi=  0.43368257891085676\n",
      "epoch  50  loss  -0.4243824779987335  loss shape  -0.4243824779987335  loss temporal  11.376389503479004\n",
      " Eval mse=  0.2555562354624271  dtw=  0.3881803358603661  tdi=  12.18636463753035\n",
      "epoch  100  loss  -0.5229262113571167  loss shape  -0.5229262113571167  loss temporal  12.22839069366455\n",
      " Eval mse=  0.2616160636146863  dtw=  0.28146391508669816  tdi=  11.72619129379119\n",
      "epoch  150  loss  -0.5595534443855286  loss shape  -0.5595534443855286  loss temporal  10.332505226135254\n",
      " Eval mse=  0.26843578144907954  dtw=  0.25259710035381494  tdi=  10.447570802983005\n",
      "epoch  200  loss  -0.573649525642395  loss shape  -0.573649525642395  loss temporal  11.501171112060547\n",
      " Eval mse=  0.26582305481036506  dtw=  0.23786674263616195  tdi=  10.79286394380853\n",
      "epoch  250  loss  -0.5660954713821411  loss shape  -0.5660954713821411  loss temporal  11.470191955566406\n",
      " Eval mse=  0.26460760285456975  dtw=  0.233007287719772  tdi=  10.712753902185224\n",
      "epoch  300  loss  -0.6040289998054504  loss shape  -0.6040289998054504  loss temporal  11.162368774414062\n",
      " Eval mse=  0.2661116903026899  dtw=  0.21527950075673916  tdi=  10.664431841831425\n",
      "epoch  350  loss  -0.5912353992462158  loss shape  -0.5912353992462158  loss temporal  11.731037139892578\n",
      " Eval mse=  0.2634055927395821  dtw=  0.19537625211216067  tdi=  10.450301205341662\n",
      "epoch  400  loss  -0.6288989782333374  loss shape  -0.6288989782333374  loss temporal  10.517460823059082\n",
      " Eval mse=  0.262179397046566  dtw=  0.19161991278537732  tdi=  10.622755983350677\n",
      "epoch  450  loss  -0.6162300705909729  loss shape  -0.6162300705909729  loss temporal  10.601654052734375\n",
      " Eval mse=  0.26652711927890776  dtw=  0.19071652189890959  tdi=  10.033578303850154\n",
      "epoch  500  loss  -0.5846474170684814  loss shape  -0.5846474170684814  loss temporal  10.913991928100586\n",
      " Eval mse=  0.26033746351798376  dtw=  0.2037088674114201  tdi=  10.896616631980576\n",
      "epoch  550  loss  -0.6310098171234131  loss shape  -0.6310098171234131  loss temporal  10.818166732788086\n",
      " Eval mse=  0.2606122868756453  dtw=  0.1966801662639071  tdi=  11.283164932362123\n",
      "epoch  600  loss  -0.6192618608474731  loss shape  -0.6192618608474731  loss temporal  10.445472717285156\n",
      " Eval mse=  0.2669934486349424  dtw=  0.18775400957363858  tdi=  9.893901664932361\n",
      "epoch  650  loss  -0.587431788444519  loss shape  -0.587431788444519  loss temporal  11.15347671508789\n",
      " Eval mse=  0.26129764318466187  dtw=  0.2063389552479909  tdi=  10.3560035119667\n",
      "epoch  700  loss  -0.627455472946167  loss shape  -0.627455472946167  loss temporal  10.495086669921875\n",
      " Eval mse=  0.26075044174989065  dtw=  0.1922896254156252  tdi=  10.27493691467222\n",
      "epoch  750  loss  -0.6301360726356506  loss shape  -0.6301360726356506  loss temporal  9.992847442626953\n",
      " Eval mse=  0.26135598023732504  dtw=  0.19188251373377913  tdi=  10.007082943114812\n",
      "epoch  800  loss  -0.6572853922843933  loss shape  -0.6572853922843933  loss temporal  9.464568138122559\n",
      " Eval mse=  0.26364094763994217  dtw=  0.1851437622302251  tdi=  9.488036723898718\n",
      "epoch  850  loss  -0.5403181910514832  loss shape  -0.5403181910514832  loss temporal  11.171684265136719\n",
      " Eval mse=  0.2724863601227601  dtw=  0.23808636982645828  tdi=  10.793867585848075\n",
      "epoch  900  loss  -0.597234845161438  loss shape  -0.597234845161438  loss temporal  10.900636672973633\n",
      " Eval mse=  0.2632197755078475  dtw=  0.24384140855536993  tdi=  10.776162504335762\n",
      "epoch  950  loss  -0.6566382646560669  loss shape  -0.6566382646560669  loss temporal  9.094815254211426\n",
      " Eval mse=  0.24318841124574345  dtw=  0.21578328780387143  tdi=  8.91693227540756\n"
     ]
    }
   ],
   "source": [
    "# random.seed(0)\n",
    "\n",
    "# parameters\n",
    "batch_size = 100\n",
    "N_input = 90\n",
    "N_output = 62 \n",
    "sigma = 0.01\n",
    "gamma = 0.01\n",
    "\n",
    "# Load synthetic dataset\n",
    "# X_train_input,X_train_target,X_test_input,X_test_target,train_bkp,test_bkp = create_synthetic_dataset(N,N_input,N_output,sigma)\n",
    "# dataset_train = SyntheticDataset(X_train_input,X_train_target, train_bkp)\n",
    "# dataset_test  = SyntheticDataset(X_test_input,X_test_target, test_bkp)\n",
    "# trainloader = DataLoader(dataset_train, batch_size=batch_size,shuffle=True, num_workers=1)\n",
    "# testloader  = DataLoader(dataset_test, batch_size=batch_size,shuffle=False, num_workers=1)\n",
    "\n",
    "\n",
    "# Load ECG dataset\n",
    "filepath_train = '../Wafer_TRAIN.txt'\n",
    "filepath_test = '../Wafer_TEST.txt'\n",
    "x_train_ip, x_train_op, x_test_ip, x_test_op, train_bkp, test_bkp = load_wafer(filepath_train, filepath_test)\n",
    "# print (x_train_ip.shape, x_train_op.shape, x_test_ip.shape, x_test_op.shape)\n",
    "dataset_train = create_Dataset(x_train_ip, x_train_op, train_bkp)\n",
    "dataset_test  = create_Dataset(x_test_ip, x_test_op, test_bkp)\n",
    "trainloader = DataLoader(dataset_train, batch_size=batch_size,shuffle=True, num_workers=1)\n",
    "testloader  = DataLoader(dataset_test, batch_size=batch_size,shuffle=False, num_workers=1)\n",
    "\n",
    "def train_model(net,loss_type, learning_rate, epochs=1000, gamma = 0.01,\n",
    "                print_every=50,eval_every=50, verbose=1, Lambda=1, alpha=1):\n",
    "    \n",
    "    optimizer = torch.optim.Adam(net.parameters(),lr=learning_rate)\n",
    "    criterion = torch.nn.MSELoss()\n",
    "    \n",
    "    for epoch in range(epochs): \n",
    "        for i, data in enumerate(trainloader, 0):\n",
    "            inputs, target, _ = data\n",
    "            inputs = torch.tensor(inputs, dtype=torch.float32).to(device)\n",
    "            target = torch.tensor(target, dtype=torch.float32).to(device)\n",
    "            batch_size, N_output = target.shape[0:2]                     \n",
    "\n",
    "            # forward + backward + optimize\n",
    "            outputs = net(inputs)\n",
    "            loss_mse,loss_shape,loss_temporal = torch.tensor(0),torch.tensor(0),torch.tensor(0)\n",
    "            \n",
    "            if (loss_type=='mse'):\n",
    "                loss_mse = criterion(target,outputs)\n",
    "                loss = loss_mse                   \n",
    " \n",
    "            if (loss_type=='dilate'):    \n",
    "                loss, loss_shape, loss_temporal = dilate_loss(target,outputs,alpha, gamma, device)     \n",
    "            \n",
    "            if (loss_type=='dilate_shape'):    \n",
    "                loss, loss_shape, loss_temporal = dilate_loss(target,outputs,alpha, gamma, device)     \n",
    "                loss = loss_shape\n",
    "                \n",
    "            optimizer.zero_grad()\n",
    "            loss.backward()\n",
    "            optimizer.step()          \n",
    "        \n",
    "        if(verbose):\n",
    "            if (epoch % print_every == 0):\n",
    "                print('epoch ', epoch, ' loss ',loss.item(),' loss shape ',loss_shape.item(),' loss temporal ',loss_temporal.item())\n",
    "                eval_model(net,testloader, gamma,verbose=1)\n",
    "  \n",
    "\n",
    " \n",
    "def eval_model(net,loader, gamma,verbose=1):   \n",
    "    criterion = torch.nn.MSELoss()\n",
    "    losses_mse = []\n",
    "    losses_dtw = []\n",
    "    losses_tdi = []   \n",
    "\n",
    "    for i, data in enumerate(loader, 0):\n",
    "        loss_mse, loss_dtw, loss_tdi = torch.tensor(0),torch.tensor(0),torch.tensor(0)\n",
    "        # get the inputs\n",
    "        inputs, target, breakpoints = data\n",
    "        inputs = torch.tensor(inputs, dtype=torch.float32).to(device)\n",
    "        target = torch.tensor(target, dtype=torch.float32).to(device)\n",
    "        batch_size, N_output = target.shape[0:2]\n",
    "        outputs = net(inputs)\n",
    "         \n",
    "        # MSE    \n",
    "        loss_mse = criterion(target,outputs)    \n",
    "        loss_dtw, loss_tdi = 0,0\n",
    "        # DTW and TDI\n",
    "        for k in range(batch_size):         \n",
    "            target_k_cpu = target[k,:,0:1].view(-1).detach().cpu().numpy()\n",
    "            output_k_cpu = outputs[k,:,0:1].view(-1).detach().cpu().numpy()\n",
    "\n",
    "            loss_dtw += dtw(target_k_cpu,output_k_cpu)\n",
    "            path, sim = dtw_path(target_k_cpu, output_k_cpu)   \n",
    "                       \n",
    "            Dist = 0\n",
    "            for i,j in path:\n",
    "                    Dist += (i-j)*(i-j)\n",
    "            loss_tdi += Dist / (N_output*N_output)            \n",
    "                        \n",
    "        loss_dtw = loss_dtw /batch_size\n",
    "        loss_tdi = loss_tdi / batch_size\n",
    "\n",
    "        # print statistics\n",
    "        losses_mse.append( loss_mse.item() )\n",
    "        losses_dtw.append( loss_dtw )\n",
    "        losses_tdi.append( loss_tdi )\n",
    "\n",
    "    print( ' Eval mse= ', np.array(losses_mse).mean() ,' dtw= ',np.array(losses_dtw).mean() ,' tdi= ', np.array(losses_tdi).mean()) \n",
    "\n",
    "\n",
    "encoder = EncoderRNN(input_size=1, hidden_size=128, num_grulstm_layers=1, batch_size=batch_size).to(device)\n",
    "decoder = DecoderRNN(input_size=1, hidden_size=128, num_grulstm_layers=1,fc_units=16, output_size=1).to(device)\n",
    "net_gru_dilate = Net_GRU(encoder,decoder, N_output, device).to(device)\n",
    "train_model(net_gru_dilate,loss_type='dilate',learning_rate=0.001, epochs=1000, gamma=gamma, print_every=50, eval_every=50,verbose=1)\n",
    "\n",
    "# encoder = EncoderRNN(input_size=1, hidden_size=128, num_grulstm_layers=1, batch_size=batch_size).to(device)\n",
    "# decoder = DecoderRNN(input_size=1, hidden_size=128, num_grulstm_layers=1,fc_units=16, output_size=1).to(device)\n",
    "# net_gru_mse = Net_GRU(encoder,decoder, N_output, device).to(device)\n",
    "# train_model(net_gru_mse,loss_type='mse',learning_rate=0.001, epochs=500, gamma=gamma, print_every=50, eval_every=50,verbose=1)\n",
    "\n",
    "#encoder = EncoderRNN(input_size=1, hidden_size=128, num_grulstm_layers=1, batch_size=batch_size).to(device)\n",
    "#decoder = DecoderRNN(input_size=1, hidden_size=128, num_grulstm_layers=1,fc_units=16, output_size=1).to(device)\n",
    "#net_gru_dilate = Net_GRU(encoder,decoder, N_output, device).to(device)\n",
    "#train_model(net_gru_dilate,loss_type='dilate_shape',learning_rate=0.001, epochs=500, gamma=gamma, print_every=50, eval_every=50,verbose=1)\n",
    "\n"
   ]
  },
  {
   "cell_type": "code",
   "execution_count": null,
   "metadata": {},
   "outputs": [],
   "source": []
  },
  {
   "cell_type": "code",
   "execution_count": null,
   "metadata": {},
   "outputs": [],
   "source": []
  },
  {
   "cell_type": "code",
   "execution_count": null,
   "metadata": {},
   "outputs": [],
   "source": []
  },
  {
   "cell_type": "code",
   "execution_count": null,
   "metadata": {},
   "outputs": [],
   "source": []
  },
  {
   "cell_type": "code",
   "execution_count": null,
   "metadata": {},
   "outputs": [],
   "source": []
  },
  {
   "cell_type": "code",
   "execution_count": null,
   "metadata": {},
   "outputs": [],
   "source": []
  },
  {
   "cell_type": "code",
   "execution_count": null,
   "metadata": {},
   "outputs": [],
   "source": []
  },
  {
   "cell_type": "code",
   "execution_count": null,
   "metadata": {},
   "outputs": [],
   "source": []
  },
  {
   "cell_type": "code",
   "execution_count": null,
   "metadata": {},
   "outputs": [],
   "source": [
    "\n"
   ]
  }
 ],
 "metadata": {
  "kernelspec": {
   "display_name": "Python [conda env:myenv] *",
   "language": "python",
   "name": "conda-env-myenv-py"
  },
  "language_info": {
   "codemirror_mode": {
    "name": "ipython",
    "version": 3
   },
   "file_extension": ".py",
   "mimetype": "text/x-python",
   "name": "python",
   "nbconvert_exporter": "python",
   "pygments_lexer": "ipython3",
   "version": "3.7.5"
  }
 },
 "nbformat": 4,
 "nbformat_minor": 2
}
