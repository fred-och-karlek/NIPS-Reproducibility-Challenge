{
 "cells": [
  {
   "cell_type": "code",
   "execution_count": 1,
   "metadata": {},
   "outputs": [],
   "source": [
    "#alpha = 0.5, gamma = 0.1"
   ]
  },
  {
   "cell_type": "code",
   "execution_count": 2,
   "metadata": {},
   "outputs": [],
   "source": [
    "import numpy as np\n",
    "import torch\n",
    "from data.synthetic_dataset import create_synthetic_dataset, SyntheticDataset\n",
    "from models.seq2seq import EncoderRNN, DecoderRNN, Net_GRU\n",
    "from loss.dilate_loss import dilate_loss\n",
    "from torch.utils.data import DataLoader\n",
    "import random\n",
    "from tslearn.metrics import dtw, dtw_path\n",
    "import matplotlib.pyplot as plt\n",
    "import warnings\n",
    "import warnings; warnings.simplefilter('ignore')\n"
   ]
  },
  {
   "cell_type": "code",
   "execution_count": 3,
   "metadata": {},
   "outputs": [],
   "source": [
    "import os\n",
    "os.environ[\"CUDA_VISIBLE_DEVICES\"] = \"0\""
   ]
  },
  {
   "cell_type": "code",
   "execution_count": 4,
   "metadata": {},
   "outputs": [
    {
     "data": {
      "text/plain": [
       "device(type='cuda', index=0)"
      ]
     },
     "execution_count": 4,
     "metadata": {},
     "output_type": "execute_result"
    }
   ],
   "source": [
    "device = torch.device(\"cuda:0\" if torch.cuda.is_available() else \"cpu\")\n",
    "device"
   ]
  },
  {
   "cell_type": "code",
   "execution_count": 5,
   "metadata": {},
   "outputs": [
    {
     "name": "stdout",
     "output_type": "stream",
     "text": [
      "epoch  0  loss  0.4740832448005676  loss shape  0.38013410568237305  loss temporal  0.5680323839187622\n",
      " Eval mse=  0.1298966258764267  dtw=  1.3016086235526405  tdi=  0.46347499999999986\n",
      "epoch  50  loss  -0.6898930072784424  loss shape  -1.7950513362884521  loss temporal  0.4152652621269226\n",
      " Eval mse=  0.03245045989751816  dtw=  0.6189700667643472  tdi=  1.6967700000000001\n",
      "epoch  100  loss  -1.0715010166168213  loss shape  -2.5424020290374756  loss temporal  0.39939990639686584\n",
      " Eval mse=  0.023335927724838258  dtw=  0.5139462138754982  tdi=  1.58482\n",
      "epoch  150  loss  -1.2718286514282227  loss shape  -2.9015371799468994  loss temporal  0.3578798472881317\n",
      " Eval mse=  0.013576916977763176  dtw=  0.33329827704327536  tdi=  1.47369\n",
      "epoch  200  loss  -1.278735637664795  loss shape  -2.908710479736328  loss temporal  0.35123908519744873\n",
      " Eval mse=  0.011744659580290317  dtw=  0.2608840330745334  tdi=  1.7028899999999996\n",
      "epoch  250  loss  -1.320464849472046  loss shape  -2.9881129264831543  loss temporal  0.3471832275390625\n",
      " Eval mse=  0.011633697524666786  dtw=  0.2252417515624004  tdi=  1.93934\n",
      "epoch  300  loss  -1.3432483673095703  loss shape  -3.030320405960083  loss temporal  0.34382355213165283\n",
      " Eval mse=  0.011450095288455486  dtw=  0.20010616020257124  tdi=  1.7713299999999996\n",
      "epoch  350  loss  -1.3240845203399658  loss shape  -3.003331422805786  loss temporal  0.35516247153282166\n",
      " Eval mse=  0.011573104187846184  dtw=  0.19391588352131295  tdi=  1.7333599999999998\n",
      "epoch  400  loss  -1.341833233833313  loss shape  -3.0286636352539062  loss temporal  0.34499719738960266\n",
      " Eval mse=  0.011711159907281398  dtw=  0.1972677641189237  tdi=  1.6249600000000002\n",
      "epoch  450  loss  -1.3379311561584473  loss shape  -3.021732807159424  loss temporal  0.3458704948425293\n",
      " Eval mse=  0.012656818330287933  dtw=  0.18568246984309494  tdi=  1.9161050000000004\n"
     ]
    }
   ],
   "source": [
    "random.seed(0)\n",
    "\n",
    "# parameters\n",
    "batch_size = 100\n",
    "N = 500\n",
    "N_input = 20\n",
    "N_output = 20  \n",
    "sigma = 0.01\n",
    "gamma = 0.1\n",
    "\n",
    "# Load synthetic dataset\n",
    "X_train_input,X_train_target,X_test_input,X_test_target,train_bkp,test_bkp = create_synthetic_dataset(N,N_input,N_output,sigma)\n",
    "dataset_train = SyntheticDataset(X_train_input,X_train_target, train_bkp)\n",
    "dataset_test  = SyntheticDataset(X_test_input,X_test_target, test_bkp)\n",
    "trainloader = DataLoader(dataset_train, batch_size=batch_size,shuffle=True, num_workers=1)\n",
    "testloader  = DataLoader(dataset_test, batch_size=batch_size,shuffle=False, num_workers=1)\n",
    "\n",
    "# training losses over all the epochs\n",
    "tr_loss = []\n",
    "tr_loss_shape = []\n",
    "tr_loss_temp = []\n",
    "\n",
    "def train_model(net,loss_type, learning_rate, epochs=1000, gamma = 0.001,\n",
    "                print_every=50,eval_every=50, verbose=1, Lambda=1, alpha=0.5):\n",
    "    \n",
    "    optimizer = torch.optim.Adam(net.parameters(),lr=learning_rate)\n",
    "    criterion = torch.nn.MSELoss()\n",
    "    \n",
    "    for epoch in range(epochs): \n",
    "        \n",
    "        l, l_shape, l_temp, n_tr_steps = 0, 0, 0, 0\n",
    "\n",
    "        for i, data in enumerate(trainloader, 0):\n",
    "            inputs, target, _ = data\n",
    "            inputs = torch.tensor(inputs, dtype=torch.float32).to(device)\n",
    "            target = torch.tensor(target, dtype=torch.float32).to(device)\n",
    "            batch_size, N_output = target.shape[0:2]                     \n",
    "\n",
    "            # forward + backward + optimize\n",
    "            outputs = net(inputs)\n",
    "            loss_mse,loss_shape,loss_temporal = torch.tensor(0),torch.tensor(0),torch.tensor(0)\n",
    "            \n",
    "            if (loss_type=='mse'):\n",
    "                loss_mse = criterion(target,outputs)\n",
    "                loss = loss_mse                   \n",
    " \n",
    "            if (loss_type=='dilate'):    \n",
    "                loss, loss_shape, loss_temporal = dilate_loss(target,outputs,alpha, gamma, device)     \n",
    "            \n",
    "            if (loss_type=='dilate_shape'):    \n",
    "                loss, loss_shape, loss_temporal = dilate_loss(target,outputs,alpha, gamma, device)     \n",
    "                loss = loss_shape\n",
    "                \n",
    "            optimizer.zero_grad()\n",
    "            loss.backward()\n",
    "            optimizer.step()          \n",
    "            \n",
    "            # adding training losses\n",
    "            l += loss.item() \n",
    "            l_shape += loss_shape.item()\n",
    "            l_temp += loss_temporal.item()\n",
    "            n_tr_steps += 1\n",
    "        tr_loss.append(l/float(n_tr_steps))\n",
    "        tr_loss_shape.append(l_shape/float(n_tr_steps))\n",
    "        tr_loss_temp.append(l_temp/float(n_tr_steps)) \n",
    "        \n",
    "        if(verbose):\n",
    "            if (epoch % print_every == 0):\n",
    "                print('epoch ', epoch, ' loss ',loss.item(),' loss shape ',loss_shape.item(),' loss temporal ',loss_temporal.item())\n",
    "                eval_model(net,testloader, gamma,verbose=1)\n",
    "  \n",
    "\n",
    " \n",
    "def eval_model(net,loader, gamma,verbose=1):   \n",
    "    criterion = torch.nn.MSELoss()\n",
    "    losses_mse = []\n",
    "    losses_dtw = []\n",
    "    losses_tdi = []   \n",
    "\n",
    "    for i, data in enumerate(loader, 0):\n",
    "        loss_mse, loss_dtw, loss_tdi = torch.tensor(0),torch.tensor(0),torch.tensor(0)\n",
    "        # get the inputs\n",
    "        inputs, target, breakpoints = data\n",
    "        inputs = torch.tensor(inputs, dtype=torch.float32).to(device)\n",
    "        target = torch.tensor(target, dtype=torch.float32).to(device)\n",
    "        batch_size, N_output = target.shape[0:2]\n",
    "        outputs = net(inputs)\n",
    "         \n",
    "        # MSE    \n",
    "        loss_mse = criterion(target,outputs)    \n",
    "        loss_dtw, loss_tdi = 0,0\n",
    "        # DTW and TDI\n",
    "        for k in range(batch_size):         \n",
    "            target_k_cpu = target[k,:,0:1].view(-1).detach().cpu().numpy()\n",
    "            output_k_cpu = outputs[k,:,0:1].view(-1).detach().cpu().numpy()\n",
    "\n",
    "            loss_dtw += dtw(target_k_cpu,output_k_cpu)\n",
    "            path, sim = dtw_path(target_k_cpu, output_k_cpu)   \n",
    "                       \n",
    "            Dist = 0\n",
    "            for i,j in path:\n",
    "                    Dist += (i-j)*(i-j)\n",
    "            loss_tdi += Dist / (N_output*N_output)            \n",
    "                        \n",
    "        loss_dtw = loss_dtw /batch_size\n",
    "        loss_tdi = loss_tdi / batch_size\n",
    "\n",
    "        # print statistics\n",
    "        losses_mse.append( loss_mse.item() )\n",
    "        losses_dtw.append( loss_dtw )\n",
    "        losses_tdi.append( loss_tdi )\n",
    "\n",
    "    print( ' Eval mse= ', np.array(losses_mse).mean() ,' dtw= ',np.array(losses_dtw).mean() ,' tdi= ', np.array(losses_tdi).mean()) \n",
    "\n",
    "\n",
    "encoder = EncoderRNN(input_size=1, hidden_size=128, num_grulstm_layers=1, batch_size=batch_size).to(device)\n",
    "decoder = DecoderRNN(input_size=1, hidden_size=128, num_grulstm_layers=1,fc_units=16, output_size=1).to(device)\n",
    "net_gru_dilate = Net_GRU(encoder,decoder, N_output, device).to(device)\n",
    "train_model(net_gru_dilate,loss_type='dilate',learning_rate=0.001, epochs=500, gamma=gamma, print_every=50, eval_every=50,verbose=1)\n",
    "\n",
    "# encoder = EncoderRNN(input_size=1, hidden_size=128, num_grulstm_layers=1, batch_size=batch_size).to(device)\n",
    "# decoder = DecoderRNN(input_size=1, hidden_size=128, num_grulstm_layers=1,fc_units=16, output_size=1).to(device)\n",
    "# net_gru_mse = Net_GRU(encoder,decoder, N_output, device).to(device)\n",
    "# train_model(net_gru_mse,loss_type='mse',learning_rate=0.001, epochs=500, gamma=gamma, print_every=50, eval_every=50,verbose=1)\n",
    "\n",
    "# encoder = EncoderRNN(input_size=1, hidden_size=128, num_grulstm_layers=1, batch_size=batch_size).to(device)\n",
    "# decoder = DecoderRNN(input_size=1, hidden_size=128, num_grulstm_layers=1,fc_units=16, output_size=1).to(device)\n",
    "# net_gru_dilate = Net_GRU(encoder,decoder, N_output, device).to(device)\n",
    "# train_model(net_gru_dilate,loss_type='dilate_shape',learning_rate=0.001, epochs=500, gamma=gamma, print_every=50, eval_every=50,verbose=1)\n",
    "\n",
    "\n"
   ]
  },
  {
   "cell_type": "code",
   "execution_count": 6,
   "metadata": {},
   "outputs": [
    {
     "data": {
      "image/png": "[encoded data removed]",
      "text/plain": [
       "<Figure size 432x288 with 1 Axes>"
      ]
     },
     "metadata": {
      "needs_background": "light"
     },
     "output_type": "display_data"
    },
    {
     "data": {
      "image/png": "[encoded data removed]",
      "text/plain": [
       "<Figure size 432x288 with 1 Axes>"
      ]
     },
     "metadata": {
      "needs_background": "light"
     },
     "output_type": "display_data"
    },
    {
     "data": {
      "image/png": "[encoded data removed]",
      "text/plain": [
       "<Figure size 432x288 with 1 Axes>"
      ]
     },
     "metadata": {
      "needs_background": "light"
     },
     "output_type": "display_data"
    }
   ],
   "source": [
    "# plot training losses - \n",
    "plt.figure()\n",
    "plt.plot(tr_loss)\n",
    "plt.xlabel('Epochs')\n",
    "plt.ylabel('Loss')\n",
    "plt.title('DILATE loss')\n",
    "\n",
    "plt.show()\n",
    "plt.figure()\n",
    "plt.plot(tr_loss_shape)\n",
    "plt.xlabel('Epochs')\n",
    "plt.ylabel('Loss')\n",
    "plt.title('Shape loss')\n",
    "plt.show()\n",
    "plt.figure()\n",
    "plt.plot(tr_loss_temp)\n",
    "plt.xlabel('Epochs')\n",
    "plt.ylabel('Loss')\n",
    "plt.title('Temporal loss')\n",
    "plt.show()\n",
    "\n",
    "\n",
    "\n"
   ]
  },
  {
   "cell_type": "code",
   "execution_count": null,
   "metadata": {},
   "outputs": [],
   "source": []
  }
 ],
 "metadata": {
  "kernelspec": {
   "display_name": "Python [conda env:myenv] *",
   "language": "python",
   "name": "conda-env-myenv-py"
  },
  "language_info": {
   "codemirror_mode": {
    "name": "ipython",
    "version": 3
   },
   "file_extension": ".py",
   "mimetype": "text/x-python",
   "name": "python",
   "nbconvert_exporter": "python",
   "pygments_lexer": "ipython3",
   "version": "3.7.5"
  }
 },
 "nbformat": 4,
 "nbformat_minor": 2
}
