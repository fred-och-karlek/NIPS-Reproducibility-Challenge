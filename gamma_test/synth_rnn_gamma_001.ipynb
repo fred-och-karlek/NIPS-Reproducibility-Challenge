{
 "cells": [
  {
   "cell_type": "code",
   "execution_count": 1,
   "metadata": {},
   "outputs": [],
   "source": [
    "#alpha = 0.5, gamma = 0.01"
   ]
  },
  {
   "cell_type": "code",
   "execution_count": 2,
   "metadata": {},
   "outputs": [],
   "source": [
    "import numpy as np\n",
    "import torch\n",
    "from data.synthetic_dataset import create_synthetic_dataset, SyntheticDataset\n",
    "from models.seq2seq import EncoderRNN, DecoderRNN, Net_GRU\n",
    "from loss.dilate_loss import dilate_loss\n",
    "from torch.utils.data import DataLoader\n",
    "import random\n",
    "from tslearn.metrics import dtw, dtw_path\n",
    "import matplotlib.pyplot as plt\n",
    "import warnings\n",
    "import warnings; warnings.simplefilter('ignore')\n"
   ]
  },
  {
   "cell_type": "code",
   "execution_count": 3,
   "metadata": {},
   "outputs": [],
   "source": [
    "import os\n",
    "os.environ[\"CUDA_VISIBLE_DEVICES\"] = \"0\""
   ]
  },
  {
   "cell_type": "code",
   "execution_count": 4,
   "metadata": {},
   "outputs": [
    {
     "data": {
      "text/plain": [
       "device(type='cuda', index=0)"
      ]
     },
     "execution_count": 4,
     "metadata": {},
     "output_type": "execute_result"
    }
   ],
   "source": [
    "device = torch.device(\"cuda:0\" if torch.cuda.is_available() else \"cpu\")\n",
    "device"
   ]
  },
  {
   "cell_type": "code",
   "execution_count": 5,
   "metadata": {},
   "outputs": [
    {
     "name": "stdout",
     "output_type": "stream",
     "text": [
      "epoch  0  loss  1.4716389179229736  loss shape  2.485290765762329  loss temporal  0.457986980676651\n",
      " Eval mse=  0.13964495062828064  dtw=  1.3565072119643438  tdi=  0.46735\n",
      "epoch  50  loss  0.6447535753250122  loss shape  0.9937500357627869  loss temporal  0.29575708508491516\n",
      " Eval mse=  0.04454266428947449  dtw=  0.7671571721048067  tdi=  0.52043\n",
      "epoch  100  loss  0.368952214717865  loss shape  0.46290111541748047  loss temporal  0.2750033140182495\n",
      " Eval mse=  0.03263734094798565  dtw=  0.6339384840844057  tdi=  0.47261500000000006\n",
      "epoch  150  loss  0.26103475689888  loss shape  0.15288756787776947  loss temporal  0.36918196082115173\n",
      " Eval mse=  0.020636970177292824  dtw=  0.48009475396105145  tdi=  0.9587700000000001\n",
      "epoch  200  loss  0.10306189954280853  loss shape  -0.15100166201591492  loss temporal  0.357125461101532\n",
      " Eval mse=  0.013627187162637711  dtw=  0.3234018618344268  tdi=  0.98192\n",
      "epoch  250  loss  0.05496498942375183  loss shape  -0.21224361658096313  loss temporal  0.3221735954284668\n",
      " Eval mse=  0.012925728969275952  dtw=  0.2614690381691242  tdi=  1.43763\n",
      "epoch  300  loss  0.06240024417638779  loss shape  -0.22298495471477509  loss temporal  0.34778544306755066\n",
      " Eval mse=  0.0126421470195055  dtw=  0.25370680126852124  tdi=  1.1755400000000003\n",
      "epoch  350  loss  0.053032733500003815  loss shape  -0.22022385895252228  loss temporal  0.3262893259525299\n",
      " Eval mse=  0.011143793910741806  dtw=  0.2090828312641444  tdi=  1.42437\n",
      "epoch  400  loss  0.041097790002822876  loss shape  -0.25068560242652893  loss temporal  0.3328811824321747\n",
      " Eval mse=  0.011324812285602092  dtw=  0.19468596875384941  tdi=  1.4384050000000002\n",
      "epoch  450  loss  0.0328066349029541  loss shape  -0.2595967650413513  loss temporal  0.3252100348472595\n",
      " Eval mse=  0.013158560916781425  dtw=  0.19220438719395175  tdi=  1.4176749999999998\n"
     ]
    }
   ],
   "source": [
    "random.seed(0)\n",
    "\n",
    "# parameters\n",
    "batch_size = 100\n",
    "N = 500\n",
    "N_input = 20\n",
    "N_output = 20  \n",
    "sigma = 0.01\n",
    "gamma = 0.01\n",
    "\n",
    "# Load synthetic dataset\n",
    "X_train_input,X_train_target,X_test_input,X_test_target,train_bkp,test_bkp = create_synthetic_dataset(N,N_input,N_output,sigma)\n",
    "dataset_train = SyntheticDataset(X_train_input,X_train_target, train_bkp)\n",
    "dataset_test  = SyntheticDataset(X_test_input,X_test_target, test_bkp)\n",
    "trainloader = DataLoader(dataset_train, batch_size=batch_size,shuffle=True, num_workers=1)\n",
    "testloader  = DataLoader(dataset_test, batch_size=batch_size,shuffle=False, num_workers=1)\n",
    "\n",
    "# training losses over all the epochs\n",
    "tr_loss = []\n",
    "tr_loss_shape = []\n",
    "tr_loss_temp = []\n",
    "\n",
    "def train_model(net,loss_type, learning_rate, epochs=1000, gamma = 0.001,\n",
    "                print_every=50,eval_every=50, verbose=1, Lambda=1, alpha=0.5):\n",
    "    \n",
    "    optimizer = torch.optim.Adam(net.parameters(),lr=learning_rate)\n",
    "    criterion = torch.nn.MSELoss()\n",
    "    \n",
    "    for epoch in range(epochs): \n",
    "        \n",
    "        l, l_shape, l_temp, n_tr_steps = 0, 0, 0, 0\n",
    "\n",
    "        for i, data in enumerate(trainloader, 0):\n",
    "            inputs, target, _ = data\n",
    "            inputs = torch.tensor(inputs, dtype=torch.float32).to(device)\n",
    "            target = torch.tensor(target, dtype=torch.float32).to(device)\n",
    "            batch_size, N_output = target.shape[0:2]                     \n",
    "\n",
    "            # forward + backward + optimize\n",
    "            outputs = net(inputs)\n",
    "            loss_mse,loss_shape,loss_temporal = torch.tensor(0),torch.tensor(0),torch.tensor(0)\n",
    "            \n",
    "            if (loss_type=='mse'):\n",
    "                loss_mse = criterion(target,outputs)\n",
    "                loss = loss_mse                   \n",
    " \n",
    "            if (loss_type=='dilate'):    \n",
    "                loss, loss_shape, loss_temporal = dilate_loss(target,outputs,alpha, gamma, device)     \n",
    "            \n",
    "            if (loss_type=='dilate_shape'):    \n",
    "                loss, loss_shape, loss_temporal = dilate_loss(target,outputs,alpha, gamma, device)     \n",
    "                loss = loss_shape\n",
    "                \n",
    "            optimizer.zero_grad()\n",
    "            loss.backward()\n",
    "            optimizer.step()          \n",
    "            \n",
    "            # adding training losses\n",
    "            l += loss.item() \n",
    "            l_shape += loss_shape.item()\n",
    "            l_temp += loss_temporal.item()\n",
    "            n_tr_steps += 1\n",
    "        tr_loss.append(l/float(n_tr_steps))\n",
    "        tr_loss_shape.append(l_shape/float(n_tr_steps))\n",
    "        tr_loss_temp.append(l_temp/float(n_tr_steps)) \n",
    "        \n",
    "        if(verbose):\n",
    "            if (epoch % print_every == 0):\n",
    "                print('epoch ', epoch, ' loss ',loss.item(),' loss shape ',loss_shape.item(),' loss temporal ',loss_temporal.item())\n",
    "                eval_model(net,testloader, gamma,verbose=1)\n",
    "  \n",
    "\n",
    " \n",
    "def eval_model(net,loader, gamma,verbose=1):   \n",
    "    criterion = torch.nn.MSELoss()\n",
    "    losses_mse = []\n",
    "    losses_dtw = []\n",
    "    losses_tdi = []   \n",
    "\n",
    "    for i, data in enumerate(loader, 0):\n",
    "        loss_mse, loss_dtw, loss_tdi = torch.tensor(0),torch.tensor(0),torch.tensor(0)\n",
    "        # get the inputs\n",
    "        inputs, target, breakpoints = data\n",
    "        inputs = torch.tensor(inputs, dtype=torch.float32).to(device)\n",
    "        target = torch.tensor(target, dtype=torch.float32).to(device)\n",
    "        batch_size, N_output = target.shape[0:2]\n",
    "        outputs = net(inputs)\n",
    "         \n",
    "        # MSE    \n",
    "        loss_mse = criterion(target,outputs)    \n",
    "        loss_dtw, loss_tdi = 0,0\n",
    "        # DTW and TDI\n",
    "        for k in range(batch_size):         \n",
    "            target_k_cpu = target[k,:,0:1].view(-1).detach().cpu().numpy()\n",
    "            output_k_cpu = outputs[k,:,0:1].view(-1).detach().cpu().numpy()\n",
    "\n",
    "            loss_dtw += dtw(target_k_cpu,output_k_cpu)\n",
    "            path, sim = dtw_path(target_k_cpu, output_k_cpu)   \n",
    "                       \n",
    "            Dist = 0\n",
    "            for i,j in path:\n",
    "                    Dist += (i-j)*(i-j)\n",
    "            loss_tdi += Dist / (N_output*N_output)            \n",
    "                        \n",
    "        loss_dtw = loss_dtw /batch_size\n",
    "        loss_tdi = loss_tdi / batch_size\n",
    "\n",
    "        # print statistics\n",
    "        losses_mse.append( loss_mse.item() )\n",
    "        losses_dtw.append( loss_dtw )\n",
    "        losses_tdi.append( loss_tdi )\n",
    "\n",
    "    print( ' Eval mse= ', np.array(losses_mse).mean() ,' dtw= ',np.array(losses_dtw).mean() ,' tdi= ', np.array(losses_tdi).mean()) \n",
    "\n",
    "\n",
    "encoder = EncoderRNN(input_size=1, hidden_size=128, num_grulstm_layers=1, batch_size=batch_size).to(device)\n",
    "decoder = DecoderRNN(input_size=1, hidden_size=128, num_grulstm_layers=1,fc_units=16, output_size=1).to(device)\n",
    "net_gru_dilate = Net_GRU(encoder,decoder, N_output, device).to(device)\n",
    "train_model(net_gru_dilate,loss_type='dilate',learning_rate=0.001, epochs=500, gamma=gamma, print_every=50, eval_every=50,verbose=1)\n",
    "\n",
    "# encoder = EncoderRNN(input_size=1, hidden_size=128, num_grulstm_layers=1, batch_size=batch_size).to(device)\n",
    "# decoder = DecoderRNN(input_size=1, hidden_size=128, num_grulstm_layers=1,fc_units=16, output_size=1).to(device)\n",
    "# net_gru_mse = Net_GRU(encoder,decoder, N_output, device).to(device)\n",
    "# train_model(net_gru_mse,loss_type='mse',learning_rate=0.001, epochs=500, gamma=gamma, print_every=50, eval_every=50,verbose=1)\n",
    "\n",
    "# encoder = EncoderRNN(input_size=1, hidden_size=128, num_grulstm_layers=1, batch_size=batch_size).to(device)\n",
    "# decoder = DecoderRNN(input_size=1, hidden_size=128, num_grulstm_layers=1,fc_units=16, output_size=1).to(device)\n",
    "# net_gru_dilate = Net_GRU(encoder,decoder, N_output, device).to(device)\n",
    "# train_model(net_gru_dilate,loss_type='dilate_shape',learning_rate=0.001, epochs=500, gamma=gamma, print_every=50, eval_every=50,verbose=1)\n",
    "\n",
    "\n"
   ]
  },
  {
   "cell_type": "code",
   "execution_count": 6,
   "metadata": {},
   "outputs": [
    {
     "data": {
      "image/png": "[encoded data removed]",
      "text/plain": [
       "<Figure size 432x288 with 1 Axes>"
      ]
     },
     "metadata": {
      "needs_background": "light"
     },
     "output_type": "display_data"
    },
    {
     "data": {
      "image/png": "[encoded data removed]",
      "text/plain": [
       "<Figure size 432x288 with 1 Axes>"
      ]
     },
     "metadata": {
      "needs_background": "light"
     },
     "output_type": "display_data"
    },
    {
     "data": {
      "image/png": "[encoded data removed]",
      "text/plain": [
       "<Figure size 432x288 with 1 Axes>"
      ]
     },
     "metadata": {
      "needs_background": "light"
     },
     "output_type": "display_data"
    }
   ],
   "source": [
    "# plot training losses - \n",
    "plt.figure()\n",
    "plt.plot(tr_loss)\n",
    "plt.xlabel('Epochs')\n",
    "plt.ylabel('Loss')\n",
    "plt.title('DILATE loss')\n",
    "\n",
    "plt.show()\n",
    "plt.figure()\n",
    "plt.plot(tr_loss_shape)\n",
    "plt.xlabel('Epochs')\n",
    "plt.ylabel('Loss')\n",
    "plt.title('Shape loss')\n",
    "plt.show()\n",
    "plt.figure()\n",
    "plt.plot(tr_loss_temp)\n",
    "plt.xlabel('Epochs')\n",
    "plt.ylabel('Loss')\n",
    "plt.title('Temporal loss')\n",
    "plt.show()\n",
    "\n",
    "\n",
    "\n"
   ]
  },
  {
   "cell_type": "code",
   "execution_count": null,
   "metadata": {},
   "outputs": [],
   "source": []
  }
 ],
 "metadata": {
  "kernelspec": {
   "display_name": "Python [conda env:myenv] *",
   "language": "python",
   "name": "conda-env-myenv-py"
  },
  "language_info": {
   "codemirror_mode": {
    "name": "ipython",
    "version": 3
   },
   "file_extension": ".py",
   "mimetype": "text/x-python",
   "name": "python",
   "nbconvert_exporter": "python",
   "pygments_lexer": "ipython3",
   "version": "3.7.5"
  }
 },
 "nbformat": 4,
 "nbformat_minor": 2
}
